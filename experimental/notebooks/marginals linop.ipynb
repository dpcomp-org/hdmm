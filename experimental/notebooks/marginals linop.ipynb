{
 "cells": [
  {
   "cell_type": "code",
   "execution_count": 1,
   "metadata": {
    "collapsed": true
   },
   "outputs": [],
   "source": [
    "import numpy as np\n",
    "import itertools\n",
    "from scipy.sparse.linalg import LinearOperator\n",
    "from scipy import sparse"
   ]
  },
  {
   "cell_type": "code",
   "execution_count": null,
   "metadata": {},
   "outputs": [],
   "source": [
    "dom = (2,3,4)\n",
    "d = len(dom)\n",
    "X = np.ones(dom)\n",
    "tables= 2**d\n",
    "ns = sorted(range(tables), key=lambda n: bin(n).count('1'), reverse=True)\n",
    "\n",
    "marginals = [None]*tables\n",
    "marginals[tables-1] = X\n",
    "\n",
    "for cube in itertools.product(*[[0,1]]*d):\n",
    "    axes = [i for i in range(d) if cube[i] == 0]\n",
    "    print X.sum(axis=tuple(axes), keepdims=True)\n"
   ]
  },
  {
   "cell_type": "code",
   "execution_count": null,
   "metadata": {},
   "outputs": [],
   "source": [
    "ns = sorted(range(tables), key=lambda n: bin(n).count('1'), reverse=True)\n",
    "print ns"
   ]
  },
  {
   "cell_type": "code",
   "execution_count": 2,
   "metadata": {},
   "outputs": [],
   "source": [
    "def marginals_linop(domain, weights):\n",
    "    d = len(domain)\n",
    "    tables = 2**d\n",
    "    cubes = list(itertools.product(*[[1,0]]*d))\n",
    "    lookup = [None]*tables\n",
    "    wgts = [None]*tables\n",
    "    wgts[-1] = weights[0]\n",
    "    for wgt, cube in zip(weights, cubes[1:]):\n",
    "        a = ''.join(map(str, cube))\n",
    "        i = a.index('0')\n",
    "        a = int(a,2)\n",
    "        lookup[a] = (a + 2**(d-i-1), i)\n",
    "        wgts[a] = wgt\n",
    "    keys = list(sorted(range(tables), key=lambda n: bin(n).count('1'), reverse=True))\n",
    "    \n",
    "    m = np.prod([n+1 for n in domain])\n",
    "    n = np.prod(domain)\n",
    "    marginals = [None]*tables\n",
    "    marginals[tables-1] = np.zeros(domain)\n",
    "    for k in keys[1:]:\n",
    "        prev, dim = lookup[k]\n",
    "        marginals[k] = marginals[prev].sum(axis=dim, keepdims=True)\n",
    "    sizes = np.cumsum([M.size for M in marginals])[:-1]\n",
    "    \n",
    "    def matvec(x):\n",
    "        X = x.reshape(domain)\n",
    "        marginals[-1] = wgts[-1]*X\n",
    "        for k in keys[1:]:\n",
    "            prev, dim = lookup[k]\n",
    "            marginals[prev].sum(axis=dim, keepdims=True, out=marginals[k])\n",
    "        return np.concatenate([w*M.flatten() for w, M in zip(wgts, marginals)])\n",
    "    def rmatvec(y):\n",
    "        vecs = [v.reshape(M.shape) for v, M in zip(np.split(y, sizes), marginals)]\n",
    "        X = np.zeros(domain)\n",
    "        split = np.split(y, sizes)\n",
    "        for w, v, M in zip(wgts, split, marginals):\n",
    "            X += w*v.reshape(M.shape)\n",
    "        return X.flatten()\n",
    "    return LinearOperator(shape=(m,n), matvec=matvec, rmatvec=rmatvec)"
   ]
  },
  {
   "cell_type": "code",
   "execution_count": 3,
   "metadata": {
    "collapsed": true
   },
   "outputs": [],
   "source": [
    "def all_marginals(domain, weights):\n",
    "    result = []\n",
    "    cubes = list(itertools.product(*[[1,0]]*len(domain)))\n",
    "    subs = [(np.ones(n, dtype=np.float32), sparse.eye(n, dtype=np.float32)) for n in domain]\n",
    "    for wgt, cube in zip(weights, cubes):\n",
    "        if wgt > 0:\n",
    "            sub = reduce(sparse.kron, [sub[i] for sub, i in zip(subs, cube)])\n",
    "            result.append(wgt * sub)\n",
    "    return sparse.vstack(result)\n"
   ]
  },
  {
   "cell_type": "code",
   "execution_count": 19,
   "metadata": {},
   "outputs": [
    {
     "name": "stdout",
     "output_type": "stream",
     "text": [
      "[ 6.22386718  5.22361515  6.69779674  7.18341378  6.32368076  7.60796212]\n",
      "[ 6.22386718  5.22361515  6.69779674  7.18341378  6.32368076  7.60796212]\n"
     ]
    }
   ],
   "source": [
    "X = np.random.rand(2*3)\n",
    "wgts = np.ones(4) #np.random.rand(8)\n",
    "L = marginals_linop((2,3), wgts)\n",
    "M = all_marginals((2,3), wgts)\n",
    "x = X.flatten()\n",
    "#print L.dot(x)\n",
    "#print M.dot(x)\n",
    "\n",
    "print L.rmatvec(L.dot(x))\n",
    "print M.T.dot(M.dot(x))"
   ]
  },
  {
   "cell_type": "code",
   "execution_count": 15,
   "metadata": {},
   "outputs": [
    {
     "name": "stdout",
     "output_type": "stream",
     "text": [
      "[[ 1.  1.]\n",
      " [ 1.  0.]\n",
      " [ 0.  1.]]\n",
      "[[ 1.  1.  0.]\n",
      " [ 1.  0.  1.]]\n",
      "[[ 1.  0.  1.]\n",
      " [ 0.  1.  1.]]\n"
     ]
    }
   ],
   "source": [
    "print L.dot(np.eye(2))\n",
    "print L.H.dot(np.eye(3))\n",
    "print M.T.toarray()"
   ]
  },
  {
   "cell_type": "code",
   "execution_count": null,
   "metadata": {},
   "outputs": [],
   "source": [
    "def M(n): return np.vstack([np.ones(n), np.eye(n)])\n",
    "W = reduce(np.kron, [M(2), M(3), M(4)])\n",
    "y = W.dot(x)\n",
    "W.T.dot(y)"
   ]
  },
  {
   "cell_type": "code",
   "execution_count": null,
   "metadata": {},
   "outputs": [],
   "source": [
    "sorted(range(10))"
   ]
  },
  {
   "cell_type": "code",
   "execution_count": null,
   "metadata": {},
   "outputs": [],
   "source": [
    "''.join(map(str, cube)).replace(0,1)"
   ]
  },
  {
   "cell_type": "code",
   "execution_count": null,
   "metadata": {
    "collapsed": true
   },
   "outputs": [],
   "source": []
  }
 ],
 "metadata": {
  "kernelspec": {
   "display_name": "Python 2",
   "language": "python",
   "name": "python2"
  },
  "language_info": {
   "codemirror_mode": {
    "name": "ipython",
    "version": 2
   },
   "file_extension": ".py",
   "mimetype": "text/x-python",
   "name": "python",
   "nbconvert_exporter": "python",
   "pygments_lexer": "ipython2",
   "version": "2.7.12"
  }
 },
 "nbformat": 4,
 "nbformat_minor": 2
}
