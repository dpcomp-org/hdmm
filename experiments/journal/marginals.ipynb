{
 "cells": [
  {
   "cell_type": "code",
   "execution_count": null,
   "metadata": {},
   "outputs": [],
   "source": [
    "import numpy as np\n",
    "from hdmm.workload import MarginalsGram\n",
    "from scipy import sparse\n",
    "from scipy.sparse.linalg import spsolve_triangular"
   ]
  },
  {
   "cell_type": "code",
   "execution_count": null,
   "metadata": {},
   "outputs": [],
   "source": [
    "dom = (2,3,4)\n",
    "w = np.array([1,1,1,0,1,0,0,0])\n",
    "\n",
    "WtW = MarginalsGram(dom, w)"
   ]
  },
  {
   "cell_type": "code",
   "execution_count": null,
   "metadata": {},
   "outputs": [],
   "source": [
    "def loss0(theta):\n",
    "    AtA = MarginalsGram(dom, theta**2).dense_matrix()\n",
    "    AtA1 = np.linalg.pinv(AtA)\n",
    "    X = WtW.dense_matrix()\n",
    "    return np.trace(X @ AtA1)\n",
    "\n",
    "def loss1(theta):\n",
    "    theta2 = theta**2\n",
    "    X = WtW._Xmatrix(theta2)[0]\n",
    "    D = sparse.diags(X.dot(np.ones_like(theta))==0, dtype=float)\n",
    "    phi = spsolve_triangular(X+D, w, lower=False)\n",
    "    ans = np.sum(phi) * np.prod(dom)\n",
    "    return ans\n",
    "\n",
    "theta = np.array([0.25,0.25,0,0.1,0.4,0,0,0])\n",
    "\n",
    "print(loss0(theta), loss1(theta))"
   ]
  },
  {
   "cell_type": "code",
   "execution_count": null,
   "metadata": {},
   "outputs": [],
   "source": [
    "def loss_and_grad(theta):\n",
    "    n, d = np.prod(WtW.domain), len(WtW.domain)\n",
    "    A = np.arange(2**d)\n",
    "    mult = WtW._mult\n",
    "    weights = WtW.weights\n",
    "    ones = np.ones_like(theta)\n",
    "    \n",
    "    delta = np.sum(theta)**2\n",
    "    ddelta = 2*np.sum(theta)\n",
    "    theta2 = theta**2\n",
    "    \n",
    "    X, XT = WtW._Xmatrix(theta2)\n",
    "    D = sparse.diags(X.dot(np.ones_like(theta))==0, dtype=float)\n",
    "    phi = spsolve_triangular(X+D, w, lower=False)\n",
    "    ans = np.sum(phi) * n\n",
    "    \n",
    "    dXvect = -spsolve_triangular(XT+D, ones*n, lower=True)\n",
    "    # dX = outer(dXvect, phi)\n",
    "    dtheta2 = np.array([np.dot(dXvect[A&b]*phi, mult[A|b]) for b in range(2**d)])\n",
    "    dtheta = 2*theta*dtheta2\n",
    "    return delta*ans, delta*dtheta + ddelta*ans\n",
    "\n",
    "theta = np.array([0.25,0.25,0,0.1,0.4,0,0,0])\n",
    "theta = np.random.rand(8); theta[-1] = 0\n",
    "f0, g0 = loss_and_grad(theta)\n",
    "g1 = np.zeros(8)\n",
    "\n",
    "for i in range(8):\n",
    "    theta[i] -= 0.0001\n",
    "    f1, _ = loss_and_grad(theta)\n",
    "    theta[i] += 0.0002\n",
    "    f2, _ = loss_and_grad(theta)\n",
    "    theta[i] -= 0.0001\n",
    "    g1[i] = (f2 - f1) / 0.0002\n",
    "\n",
    "print(g0)\n",
    "print(g1)\n",
    "        "
   ]
  },
  {
   "cell_type": "code",
   "execution_count": 4,
   "metadata": {},
   "outputs": [
    {
     "name": "stdout",
     "output_type": "stream",
     "text": [
      "[   65.91583695    53.86791272    54.18725627    21.55158659\n",
      "    63.78023997 -2654.89930246   -20.82259202  -881.11188754]\n",
      "[   65.91583695    53.86791259    54.18725606    21.55158609\n",
      "    63.78023995 -2654.90566358   -20.82259985  -881.11211509]\n"
     ]
    }
   ],
   "source": [
    "from ektelo.hdmm import templates\n",
    "from ektelo import workload\n",
    "import numpy as np\n",
    "#%load_ext autoreload\n",
    "#%autoreload 2\n",
    "\n",
    "W = workload.DimKMarginals((2,3,4), 2)\n",
    "temp = templates.Marginals((2,3,4), approx=True)\n",
    "\n",
    "temp._set_workload(W)\n",
    "\n",
    "theta = np.random.rand(8); theta[-1] = 0\n",
    "f0, g0 = temp._loss_and_grad(theta)\n",
    "g1 = np.zeros(8)\n",
    "\n",
    "for i in range(8):\n",
    "    theta[i] -= 0.0001\n",
    "    f1, _ = temp._loss_and_grad(theta)\n",
    "    theta[i] += 0.0002\n",
    "    f2, _ = temp._loss_and_grad(theta)\n",
    "    theta[i] -= 0.0001\n",
    "    g1[i] = (f2 - f1) / 0.0002\n",
    "\n",
    "print(g0)\n",
    "print(g1)"
   ]
  },
  {
   "cell_type": "code",
   "execution_count": null,
   "metadata": {},
   "outputs": [],
   "source": []
  }
 ],
 "metadata": {
  "kernelspec": {
   "display_name": "Python 3",
   "language": "python",
   "name": "python3"
  },
  "language_info": {
   "codemirror_mode": {
    "name": "ipython",
    "version": 3
   },
   "file_extension": ".py",
   "mimetype": "text/x-python",
   "name": "python",
   "nbconvert_exporter": "python",
   "pygments_lexer": "ipython3",
   "version": "3.6.7"
  }
 },
 "nbformat": 4,
 "nbformat_minor": 2
}
