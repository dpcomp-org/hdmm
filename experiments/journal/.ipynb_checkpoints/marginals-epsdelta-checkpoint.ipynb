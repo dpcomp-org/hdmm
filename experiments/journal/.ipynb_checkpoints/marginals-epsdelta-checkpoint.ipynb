{
 "cells": [
  {
   "cell_type": "code",
   "execution_count": 1,
   "metadata": {},
   "outputs": [],
   "source": [
    "from hdmm.workload import Marginals, MarginalsGram, EkteloMatrix\n",
    "from hdmm import templates\n",
    "import numpy as np\n",
    "from scipy.sparse.linalg import spsolve_triangular\n",
    "from scipy import sparse\n",
    "from scipy.optimize import check_grad, minimize"
   ]
  },
  {
   "cell_type": "code",
   "execution_count": 2,
   "metadata": {},
   "outputs": [
    {
     "ename": "LinAlgError",
     "evalue": "A is singular: diagonal 15 is zero.",
     "output_type": "error",
     "traceback": [
      "\u001b[0;31m---------------------------------------------------------------------------\u001b[0m",
      "\u001b[0;31mLinAlgError\u001b[0m                               Traceback (most recent call last)",
      "\u001b[0;32m<ipython-input-2-23087fef38d2>\u001b[0m in \u001b[0;36m<module>\u001b[0;34m()\u001b[0m\n\u001b[1;32m     25\u001b[0m     \u001b[0;31m#y /= y.sum()\u001b[0m\u001b[0;34m\u001b[0m\u001b[0;34m\u001b[0m\u001b[0;34m\u001b[0m\u001b[0m\n\u001b[1;32m     26\u001b[0m \u001b[0;34m\u001b[0m\u001b[0m\n\u001b[0;32m---> 27\u001b[0;31m     \u001b[0;32massert\u001b[0m \u001b[0;36m0.5\u001b[0m\u001b[0;34m*\u001b[0m\u001b[0;34m(\u001b[0m\u001b[0mfoo\u001b[0m\u001b[0;34m(\u001b[0m\u001b[0mx\u001b[0m\u001b[0;34m)\u001b[0m \u001b[0;34m+\u001b[0m \u001b[0mfoo\u001b[0m\u001b[0;34m(\u001b[0m\u001b[0my\u001b[0m\u001b[0;34m)\u001b[0m\u001b[0;34m)\u001b[0m \u001b[0;34m>=\u001b[0m \u001b[0mfoo\u001b[0m\u001b[0;34m(\u001b[0m\u001b[0;36m0.5\u001b[0m\u001b[0;34m*\u001b[0m\u001b[0mx\u001b[0m \u001b[0;34m+\u001b[0m \u001b[0;36m0.5\u001b[0m\u001b[0;34m*\u001b[0m\u001b[0my\u001b[0m\u001b[0;34m)\u001b[0m\u001b[0;34m\u001b[0m\u001b[0;34m\u001b[0m\u001b[0m\n\u001b[0m",
      "\u001b[0;32m<ipython-input-2-23087fef38d2>\u001b[0m in \u001b[0;36mfoo\u001b[0;34m(theta2)\u001b[0m\n\u001b[1;32m     15\u001b[0m     \u001b[0mparams\u001b[0m \u001b[0;34m=\u001b[0m \u001b[0mY\u001b[0m\u001b[0;34m.\u001b[0m\u001b[0mdot\u001b[0m\u001b[0;34m(\u001b[0m\u001b[0mtheta2\u001b[0m\u001b[0;34m)\u001b[0m\u001b[0;34m\u001b[0m\u001b[0;34m\u001b[0m\u001b[0m\n\u001b[1;32m     16\u001b[0m     \u001b[0mX\u001b[0m\u001b[0;34m,\u001b[0m \u001b[0mXT\u001b[0m \u001b[0;34m=\u001b[0m \u001b[0mXmatrix\u001b[0m\u001b[0;34m(\u001b[0m\u001b[0mparams\u001b[0m\u001b[0;34m)\u001b[0m\u001b[0;34m\u001b[0m\u001b[0;34m\u001b[0m\u001b[0m\n\u001b[0;32m---> 17\u001b[0;31m     \u001b[0mphi\u001b[0m \u001b[0;34m=\u001b[0m \u001b[0mspsolve_triangular\u001b[0m\u001b[0;34m(\u001b[0m\u001b[0mX\u001b[0m\u001b[0;34m,\u001b[0m \u001b[0mtheta2\u001b[0m\u001b[0;34m,\u001b[0m \u001b[0mlower\u001b[0m\u001b[0;34m=\u001b[0m\u001b[0;32mFalse\u001b[0m\u001b[0;34m)\u001b[0m\u001b[0;34m\u001b[0m\u001b[0;34m\u001b[0m\u001b[0m\n\u001b[0m\u001b[1;32m     18\u001b[0m     \u001b[0;32mreturn\u001b[0m \u001b[0mnp\u001b[0m\u001b[0;34m.\u001b[0m\u001b[0mdot\u001b[0m\u001b[0;34m(\u001b[0m\u001b[0mphi\u001b[0m\u001b[0;34m,\u001b[0m \u001b[0mdphi\u001b[0m\u001b[0;34m)\u001b[0m\u001b[0;34m\u001b[0m\u001b[0;34m\u001b[0m\u001b[0m\n\u001b[1;32m     19\u001b[0m \u001b[0;34m\u001b[0m\u001b[0m\n",
      "\u001b[0;32m~/virtualenvs/pgm/lib/python3.6/site-packages/scipy/sparse/linalg/dsolve/linsolve.py\u001b[0m in \u001b[0;36mspsolve_triangular\u001b[0;34m(A, b, lower, overwrite_A, overwrite_b)\u001b[0m\n\u001b[1;32m    551\u001b[0m         \u001b[0;32mif\u001b[0m \u001b[0mindptr_stop\u001b[0m \u001b[0;34m<=\u001b[0m \u001b[0mindptr_start\u001b[0m \u001b[0;32mor\u001b[0m \u001b[0mA\u001b[0m\u001b[0;34m.\u001b[0m\u001b[0mindices\u001b[0m\u001b[0;34m[\u001b[0m\u001b[0mA_diagonal_index_row_i\u001b[0m\u001b[0;34m]\u001b[0m \u001b[0;34m<\u001b[0m \u001b[0mi\u001b[0m\u001b[0;34m:\u001b[0m\u001b[0;34m\u001b[0m\u001b[0;34m\u001b[0m\u001b[0m\n\u001b[1;32m    552\u001b[0m             raise LinAlgError(\n\u001b[0;32m--> 553\u001b[0;31m                 'A is singular: diagonal {} is zero.'.format(i))\n\u001b[0m\u001b[1;32m    554\u001b[0m         \u001b[0;32mif\u001b[0m \u001b[0mA\u001b[0m\u001b[0;34m.\u001b[0m\u001b[0mindices\u001b[0m\u001b[0;34m[\u001b[0m\u001b[0mA_diagonal_index_row_i\u001b[0m\u001b[0;34m]\u001b[0m \u001b[0;34m>\u001b[0m \u001b[0mi\u001b[0m\u001b[0;34m:\u001b[0m\u001b[0;34m\u001b[0m\u001b[0;34m\u001b[0m\u001b[0m\n\u001b[1;32m    555\u001b[0m             raise LinAlgError(\n",
      "\u001b[0;31mLinAlgError\u001b[0m: A is singular: diagonal 15 is zero."
     ]
    }
   ],
   "source": [
    "np.random.seed(0)\n",
    "w = np.random.rand(16)\n",
    "w[-1] = 0\n",
    "W = Marginals((2,3,4,5), w)\n",
    "gram = W.gram()\n",
    "d = 4\n",
    "A = np.arange(2**d)\n",
    "mult = gram._mult\n",
    "weights = W.weights\n",
    "dphi = np.array([np.dot(weights**2, mult[A|b]) for b in range(2**d)])\n",
    "Xmatrix = gram._Xmatrix\n",
    "\n",
    "def foo(theta2):\n",
    "    Y, YT = Xmatrix(theta2)\n",
    "    params = Y.dot(theta2)\n",
    "    X, XT = Xmatrix(params)\n",
    "    phi = spsolve_triangular(X, theta2, lower=False)\n",
    "    return np.dot(phi, dphi)\n",
    "\n",
    "for _ in range(1000):\n",
    "    x = np.random.rand(16)\n",
    "    x[-1] = 0\n",
    "    #x /= x.sum()\n",
    "    y = np.random.rand(16)\n",
    "    #y /= y.sum()\n",
    "\n",
    "    assert 0.5*(foo(x) + foo(y)) >= foo(0.5*x + 0.5*y)"
   ]
  },
  {
   "cell_type": "code",
   "execution_count": 3,
   "metadata": {},
   "outputs": [
    {
     "name": "stdout",
     "output_type": "stream",
     "text": [
      "[1 1 1 9]\n",
      "[0.03560958 0.04603335 0.04603335 0.87232372]\n",
      "[17. 11.  9. 11.]\n",
      "[17. 11. 11.  9.]\n",
      "[0.03560944 0.04603324 0.04603324 0.87232409]\n"
     ]
    }
   ],
   "source": [
    "def opt(W):\n",
    "    G = W.gram()\n",
    "    Xmatrix = G._Xmatrix\n",
    "    z = np.zeros_like(G.weights)\n",
    "    z[-1] = 1\n",
    "    dphi = Xmatrix(G.weights)[1].dot(np.ones(z.size)) * W.shape[1]\n",
    "    d = len(W.domain)\n",
    "    A = np.arange(2**d)\n",
    "\n",
    "    def foo(v):\n",
    "        delta = np.sum(v)\n",
    "        ddelta = 1\n",
    "        \n",
    "        X, XT = Xmatrix(v)\n",
    "        phi = spsolve_triangular(X, z, lower=False)\n",
    "        ans = np.dot(phi, dphi)\n",
    "        dXvect = -spsolve_triangular(XT, dphi, lower=True)\n",
    "        dv = np.array([np.dot(dXvect[A&b]*phi, G._mult[A|b]) for b in range(2**d)])\n",
    "        \n",
    "        return delta*ans, delta*dv + ddelta*ans\n",
    "    \n",
    "    #print('gradient check', check_grad(lambda v: foo(v)[0], lambda v: foo(v)[1], v))\n",
    "    \n",
    "    res = minimize(foo, x0=np.ones(2**d) / 2**d, method='L-BFGS-B', jac=True, bounds=[(0,None)]*2**d)\n",
    "    w = res.x / res.x.sum()\n",
    "    \n",
    "    return Marginals(W.domain, np.sqrt(w))\n",
    "\n",
    "weights = np.random.rand(4)\n",
    "weights = np.array([1,1,1,3])\n",
    "W = Marginals((2,2), weights)\n",
    "A = opt(W)\n",
    "\n",
    "print(weights**2)\n",
    "print(A.weights**2)\n",
    "\n",
    "d = np.linalg.eig(W.gram().dense_matrix())[0]\n",
    "e = np.linalg.eig(A.gram().dense_matrix())[0]\n",
    "print(d)\n",
    "#print(np.sqrt(d))\n",
    "#print(e / e.min() * np.sqrt(d.min()))\n",
    "\n",
    "e = W.gram()._Xmatrix(weights**2)[1].dot(np.ones(4))\n",
    "w = weights**2\n",
    "e[0] = 4*w[0] + 2*w[1] + 2*w[2] + w[3]\n",
    "e[1] = 2*w[1] + w[3]\n",
    "e[2] = 2*w[2] + w[3]\n",
    "e[3] = w[3]\n",
    "print(e)\n",
    "\n",
    "Y = np.array([[4,2,2,1], [0,2,0,1], [0,0,2,1],[0,0,0,1]])\n",
    "e = Y.dot(w)\n",
    "w2 = np.linalg.inv(Y).dot(np.sqrt(e))\n",
    "print(w2 / w2.sum())"
   ]
  },
  {
   "cell_type": "code",
   "execution_count": 4,
   "metadata": {},
   "outputs": [],
   "source": [
    "def eigenopt(W):\n",
    "    G = W.gram()\n",
    "    d = len(G.domain)\n",
    "    # create Y matrix\n",
    "    Y = sparse.dok_matrix((2**d, 2**d))\n",
    "    for a in range(2**d):\n",
    "        for b in range(2**d):\n",
    "            if b&a == a:\n",
    "                Y[a,b] = G._mult[b]\n",
    "    Y = Y.tocsr()\n",
    "    \n",
    "    # compute unique eigenvalues\n",
    "    e = Y.dot(G.weights)\n",
    "    # recover weights of optimal strategy\n",
    "    w = spsolve_triangular(Y, np.sqrt(e), lower=False)\n",
    "    w = np.maximum(w, 0)\n",
    "    return Marginals(W.domain, np.sqrt(w))\n",
    "\n",
    "weights = np.random.rand(4)\n",
    "W = Marginals((2,7), weights)\n",
    "D = eigenopt(W)"
   ]
  },
  {
   "cell_type": "code",
   "execution_count": 5,
   "metadata": {},
   "outputs": [
    {
     "name": "stdout",
     "output_type": "stream",
     "text": [
      "199.42261685033685 199.4226168503375 199.57410544157003 199.8631765687516 199.4226168503366\n"
     ]
    }
   ],
   "source": [
    "#weights = np.array([1,1,1,1])\n",
    "\n",
    "weights = np.random.rand(16)\n",
    "W = Marginals((2,3,4,5), weights)\n",
    "\n",
    "C = opt(W).dense_matrix()\n",
    "D = eigenopt(W).dense_matrix()\n",
    "\n",
    "W = W.dense_matrix()\n",
    "#.dense_matrix()\n",
    "WtW = W.T.dot(W)\n",
    "\n",
    "#eigs = np.linalg.eigvals(WtW.dense_matrix())\n",
    "#eigs\n",
    "u,s,v = np.linalg.svd(W)\n",
    "w, z = np.linalg.eigh(WtW)\n",
    "\n",
    "svdb = s.sum()**2 / W.shape[1]\n",
    "\n",
    "A = np.diag(np.sqrt(s)).dot(v)\n",
    "AtA = A.T.dot(A)\n",
    "AtA1 = np.linalg.pinv(AtA)\n",
    "err1 = np.max(np.diag(AtA)) * np.sum(AtA1 * WtW)\n",
    "\n",
    "B = np.diag(w**0.25).dot(z.T)\n",
    "BtB = B.T.dot(B)\n",
    "BtB1 = np.linalg.pinv(BtB)\n",
    "err2 = np.max(np.diag(BtB)) * np.sum(BtB1 * WtW)\n",
    "\n",
    "CtC = C.T.dot(C)\n",
    "CtC1 = np.linalg.pinv(CtC)\n",
    "err3 = np.max(np.diag(CtC)) * np.sum(CtC1 * WtW)\n",
    "\n",
    "DtD = D.T.dot(D)\n",
    "DtD1 = np.linalg.pinv(DtD)\n",
    "err4 = np.max(np.diag(DtD)) * np.sum(DtD1 * WtW)\n",
    "\n",
    "print(err1, err2, err3, err4, svdb)"
   ]
  },
  {
   "cell_type": "code",
   "execution_count": 6,
   "metadata": {},
   "outputs": [
    {
     "name": "stdout",
     "output_type": "stream",
     "text": [
      "199.42261685033654\n"
     ]
    }
   ],
   "source": [
    "from functools import reduce \n",
    "\n",
    "def svdb(W):\n",
    "    G = W.gram()\n",
    "    d = len(G.domain)\n",
    "    # create Y matrix\n",
    "    Y = sparse.dok_matrix((2**d, 2**d))\n",
    "    for a in range(2**d):\n",
    "        for b in range(2**d):\n",
    "            if b&a == a:\n",
    "                Y[a,b] = G._mult[b]\n",
    "    Y = Y.tocsr()\n",
    "    \n",
    "    # compute unique eigenvalues\n",
    "    e = Y.dot(G.weights)\n",
    "    # now compute multiplicities \n",
    "    mult = reduce(np.kron, [[1,n-1] for n in G.domain])\n",
    "    \n",
    "    ans = np.dot(mult, np.sqrt(e))**2 / mult.sum()\n",
    "    \n",
    "    return ans\n",
    "\n",
    "W = Marginals((2,3,4,5), weights)\n",
    "\n",
    "print(svdb(W))"
   ]
  },
  {
   "cell_type": "code",
   "execution_count": null,
   "metadata": {},
   "outputs": [],
   "source": [
    "import benchmarks\n",
    "from hdmm import error\n",
    "\n",
    "W1 = benchmarks.adult_big()[0]\n",
    "\n",
    "print(np.sqrt(svdb(W1) / W1.shape[0]))\n",
    "\n",
    "A = eigenopt(W1)\n",
    "print(error.rootmse(W1, A))"
   ]
  },
  {
   "cell_type": "code",
   "execution_count": null,
   "metadata": {},
   "outputs": [],
   "source": []
  }
 ],
 "metadata": {
  "kernelspec": {
   "display_name": "Python 3",
   "language": "python",
   "name": "python3"
  },
  "language_info": {
   "codemirror_mode": {
    "name": "ipython",
    "version": 3
   },
   "file_extension": ".py",
   "mimetype": "text/x-python",
   "name": "python",
   "nbconvert_exporter": "python",
   "pygments_lexer": "ipython3",
   "version": "3.6.7"
  }
 },
 "nbformat": 4,
 "nbformat_minor": 2
}
