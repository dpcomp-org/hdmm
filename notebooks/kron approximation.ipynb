{
 "cells": [
  {
   "cell_type": "code",
   "execution_count": 11,
   "metadata": {
    "collapsed": true
   },
   "outputs": [],
   "source": [
    "import autograd.numpy as np\n",
    "from autograd import grad"
   ]
  },
  {
   "cell_type": "code",
   "execution_count": 87,
   "metadata": {},
   "outputs": [],
   "source": [
    "terms = []\n",
    "X = np.zeros((9, 16))\n",
    "for i in range(4):\n",
    "    B = np.random.rand(3,3)\n",
    "    C = np.random.rand(4,4)\n",
    "    BtB = B.T.dot(B)\n",
    "    CtC = C.T.dot(C)\n",
    "    terms.append([BtB, CtC])\n",
    "    X += np.outer(BtB.flatten(), CtC.flatten())\n",
    "    \n",
    "    \n",
    "def dist(BtB, CtC):\n",
    "    X = np.sum([np.kron(B,C) for B, C in terms])\n",
    "    Y = np.kron(BtB, CtC)\n",
    "    return np.sum((X-Y)**2)\n",
    "\n",
    "def optimize():\n",
    "    B = np.random.rand(3,3)\n",
    "    C = np.random.rand(4,4)\n",
    "    BtB = B.T.dot(B)\n",
    "    CtC = C.T.dot(C)\n",
    "    for i in range(10):\n",
    "        BtB = np.sum([B*C.sum() for B,C in terms], axis=0) / CtC.sum()\n",
    "        CtC = np.sum([C*B.sum() for B,C in terms], axis=0) / BtB.sum()\n",
    "        \n",
    "        scale = np.sqrt(BtB.sum() * CtC.sum())\n",
    "        BtB *= scale / BtB.sum()\n",
    "        CtC *= scale / CtC.sum()\n",
    "        print dist(BtB, CtC)\n",
    "        #print BtB, CtC\n",
    "    print BtB, CtC"
   ]
  },
  {
   "cell_type": "code",
   "execution_count": 91,
   "metadata": {},
   "outputs": [
    {
     "name": "stdout",
     "output_type": "stream",
     "text": [
      "(9, 16) (9, 9) (9, 16) (9,)\n",
      "True\n",
      "2.02584522099e-14\n",
      "1.35851813678\n",
      "0.916298330789\n",
      "0.412967600835\n",
      "2.06489544353e-14\n",
      "2.09099535322e-14\n",
      "2.0872192863e-14\n",
      "2.0872192863e-14\n",
      "2.02584522099e-14\n",
      "0.000510733154689\n"
     ]
    }
   ],
   "source": [
    "U,s,V = np.linalg.svd(X, full_matrices=False)\n",
    "print X.shape, U.shape, V.shape, s.shape\n",
    "S = np.diag(s)\n",
    "print np.allclose(U.dot(S).dot(V),X)\n",
    "print np.linalg.norm(U.dot(S).dot(V) - X)\n",
    "\n",
    "for k in range(1, 9):\n",
    "    Uk = U[:,:k]\n",
    "    Vk = V[:k,:]\n",
    "    Sk = np.diag(s[:k])\n",
    "    print np.linalg.norm(Uk.dot(Sk).dot(Vk) - X)\n",
    "    \n",
    "approx = []\n",
    "for i in range(2):\n",
    "    BtB = U[:,i].reshape(3,3) * s[i]\n",
    "    CtC = V[i,:].reshape(4,4)\n",
    "    approx.append([BtB,CtC])\n",
    "    \n",
    "Y = np.sum([np.kron(B,C) for B, C in terms])\n",
    "Z = np.sum([np.kron(B,C) for B, C in approx])\n",
    "print np.sum((Y-Z)**2)\n"
   ]
  },
  {
   "cell_type": "code",
   "execution_count": 54,
   "metadata": {},
   "outputs": [
    {
     "name": "stdout",
     "output_type": "stream",
     "text": [
      "52234224.4374\n",
      "51566864.7871\n",
      "51566864.7871\n",
      "51566864.7871\n",
      "51566864.7871\n",
      "51566864.7871\n",
      "51566864.7871\n",
      "51566864.7871\n",
      "51566864.7871\n",
      "51566864.7871\n",
      "51566864.7871\n",
      "[[ 3.69736946  2.81583777  2.35289709]\n",
      " [ 2.81583777  3.97423515  2.18034707]\n",
      " [ 2.35289709  2.18034707  2.17815002]] [[ 2.05091014  1.58512835  1.84638148  1.03730919]\n",
      " [ 1.58512835  2.16694764  1.53736444  1.21813136]\n",
      " [ 1.84638148  1.53736444  2.12902107  1.23151808]\n",
      " [ 1.03730919  1.21813136  1.23151808  1.28937387]]\n"
     ]
    }
   ],
   "source": [
    "BtB = np.random.rand(3,3)\n",
    "CtC = np.random.rand(4,4)\n",
    "print dist(BtB, CtC)\n",
    "#print grad(dist)(BtB,CtC)\n",
    "optimize()"
   ]
  },
  {
   "cell_type": "code",
   "execution_count": null,
   "metadata": {
    "collapsed": true
   },
   "outputs": [],
   "source": []
  }
 ],
 "metadata": {
  "kernelspec": {
   "display_name": "Python 2",
   "language": "python",
   "name": "python2"
  },
  "language_info": {
   "codemirror_mode": {
    "name": "ipython",
    "version": 2
   },
   "file_extension": ".py",
   "mimetype": "text/x-python",
   "name": "python",
   "nbconvert_exporter": "python",
   "pygments_lexer": "ipython2",
   "version": "2.7.12"
  }
 },
 "nbformat": 4,
 "nbformat_minor": 2
}
