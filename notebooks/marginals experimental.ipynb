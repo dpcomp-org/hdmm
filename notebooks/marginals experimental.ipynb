{
 "cells": [
  {
   "cell_type": "code",
   "execution_count": 17,
   "metadata": {
    "collapsed": true
   },
   "outputs": [],
   "source": [
    "import numpy as np\n",
    "import itertools\n",
    "from scipy.linalg import solve_triangular"
   ]
  },
  {
   "cell_type": "code",
   "execution_count": 18,
   "metadata": {
    "collapsed": true
   },
   "outputs": [],
   "source": [
    "T = lambda n: np.ones((1,n))\n",
    "TT = lambda n: np.ones((n,n))\n",
    "I = lambda n: np.eye(n)\n",
    "def proj(n):\n",
    "    R = np.zeros((n,2))\n",
    "    R[0,0] = 1\n",
    "    R[1:,1] = 1\n",
    "    return R\n",
    "\n",
    "def marginals(domain, weights):\n",
    "    result = []\n",
    "    cubes = list(itertools.product(*[[1,0]]*len(domain)))\n",
    "    subs = [(T(n), I(n)) for n in domain]\n",
    "    for wgt, cube in zip(weights, cubes):\n",
    "        sub = reduce(np.kron, [sub[i] for sub, i in zip(subs, cube)])\n",
    "        result.append(wgt * sub)\n",
    "    return np.vstack(result)\n",
    "\n",
    "def idx(key):\n",
    "    d = len(key)\n",
    "    return np.sum([b*2**k for b, k in zip(key, range(len(key)))])\n",
    "\n",
    "def MtM(domain, weights):\n",
    "    result = []\n",
    "    cubes = list(itertools.product(*[[1,0]]*len(domain)))\n",
    "    subs = [(TT(n), I(n)) for n in domain]\n",
    "    for cube in cubes:\n",
    "        wgt = weights[idx(np.array(cube).astype(bool))]\n",
    "        sub = reduce(np.kron, [sub[i] for sub, i in zip(subs, cube)])\n",
    "        result.append(wgt * sub)\n",
    "    return sum(result)"
   ]
  },
  {
   "cell_type": "code",
   "execution_count": null,
   "metadata": {
    "collapsed": true
   },
   "outputs": [],
   "source": [
    "dom = (3,4)\n",
    "weights = np.random.rand(2**len(dom))\n",
    "theta = np.random.rand(2**len(dom))\n",
    "\n",
    "W = marginals(dom, weights)\n",
    "A = marginals(dom, theta)\n",
    "\n",
    "print np.trace(W.T.dot(W).dot(np.linalg.pinv(A.T.dot(A))))"
   ]
  },
  {
   "cell_type": "code",
   "execution_count": null,
   "metadata": {
    "collapsed": true
   },
   "outputs": [],
   "source": [
    "P = reduce(np.kron, [proj(n) for n in dom])\n",
    "W1 = W.dot(P)\n",
    "A1 = A.dot(P)\n",
    "\n",
    "WtW1 = W1.T.dot(W1)\n",
    "AtA1 = A1.T.dot(A1)\n",
    "print WtW1.dot(np.linalg.pinv(AtA1))[0,0]*np.prod(dom)"
   ]
  },
  {
   "cell_type": "code",
   "execution_count": null,
   "metadata": {
    "collapsed": true
   },
   "outputs": [],
   "source": [
    "WtW1 = W1.T.dot(W1)\n",
    "AtA1 = A1.T.dot(A1)\n",
    "AtA1inv = np.linalg.pinv(AtA1)\n",
    "print weights\n",
    "print WtW1[0]\n",
    "print AtA1inv[0]\n",
    "print np.dot(WtW1[0], AtA1inv[0])\n",
    "# Note: the first row of WtW can be expressed directly terms of the weights\n",
    "print np.sum(weights**2)\n",
    "\n",
    "err = np.linalg.lstsq(AtA1, WtW1[0])[0][0]\n",
    "print err, err*np.prod(dom)"
   ]
  },
  {
   "cell_type": "code",
   "execution_count": null,
   "metadata": {
    "collapsed": true
   },
   "outputs": [],
   "source": [
    "theta = np.sqrt([ 0.03245202,  0.90396168,  0.24949629,  0.56501183])\n",
    "AtA = MtM(dom, theta**2)\n",
    "\n",
    "def idx(key):\n",
    "    return np.sum([b*2**k for b, k in zip(key, range(len(key)))])\n",
    "\n",
    "def inverse(dom, theta):\n",
    "    # Compute the inverse of A^T A for a marginals-like strategy\n",
    "    d = len(dom)\n",
    "    mtables = map(np.array, itertools.product(*[[True, False]]*d))\n",
    "    X = np.zeros((2**d, 2**d))\n",
    "    for A in mtables:\n",
    "        for B in mtables:\n",
    "            i = idx(A & B)\n",
    "            j = idx(A)\n",
    "            k = idx(B)\n",
    "            X[i,j] += theta[k] * np.prod(np.array(dom)[~(A | B)])\n",
    "    z = np.zeros(2**d)\n",
    "    z[-1] = 1.0\n",
    "    print X\n",
    "    return solve_triangular(X, z) # Ryan: do we need to reorder rows of X and z?\n",
    "    #return np.linalg.solve(X, z)\n",
    "    \n",
    "def trace(dom, weights, c):\n",
    "    d = len(dom)\n",
    "    mtables = map(np.array, itertools.product(*[[True, False]]*d))\n",
    "    ans = 0.0\n",
    "    for A in mtables:\n",
    "        for B in mtables:\n",
    "            i = idx(A)\n",
    "            j = idx(B)\n",
    "            mult = np.prod(np.array(dom)[~(A|B)])\n",
    "            ans += mult * weights[i] * c[j]\n",
    "    return ans * np.prod(dom)\n",
    "\n",
    "c = inverse(dom, theta**2)\n",
    "print c\n",
    "print np.linalg.norm(MtM(dom, c) - np.linalg.pinv(AtA))\n",
    "print trace(dom, weights**2, c)\n",
    "WtW = MtM(dom, weights**2)\n",
    "print np.trace(np.linalg.pinv(AtA).dot(WtW))"
   ]
  },
  {
   "cell_type": "code",
   "execution_count": null,
   "metadata": {
    "collapsed": true
   },
   "outputs": [],
   "source": [
    "import autograd.numpy as np\n",
    "from autograd.scipy.linalg import solve_triangular \n",
    "from autograd import grad\n",
    "from autograd import primitive\n",
    "\n",
    "dom = (3,4,5)\n",
    "d = len(dom)\n",
    "theta = np.random.rand(2**d)\n",
    "weights = np.random.rand(2**d)\n",
    "AtA = MtM(dom, theta**2)\n",
    "WtW = MtM(dom, weights**2)\n",
    "\n",
    "@primitive\n",
    "def Xtheta(theta, mult):\n",
    "    # Function from R^n -> R^{n x n}\n",
    "    # d X[a&b,a] / d T[b] = mult[a|b]\n",
    "    B = np.arange(2**d)\n",
    "    Xs = [np.bincount(a&B, weights=theta*mult[a|B], minlength=2**d) for a in range(2**d)]\n",
    "    return np.vstack(Xs).T\n",
    "\n",
    "def err(dom, weights, theta):\n",
    "    # E(t) = h(c(inv(X(t))))\n",
    "    d = len(dom)\n",
    "    mult = np.ones(2**d)\n",
    "    for i in range(2**d):\n",
    "        for k in range(d):\n",
    "            if not (i & (2**k)):\n",
    "                mult[i] *= dom[k]\n",
    "                \n",
    "    B = np.arange(2**d)\n",
    "    Xs = [np.bincount(a&B, weights=theta*mult[a|B], minlength=2**d) for a in range(2**d)]\n",
    "    X = np.vstack(Xs).T\n",
    "    \n",
    "    X = Xtheta(theta, mult)\n",
    "    #print X.shape\n",
    "                \n",
    "#    X = np.zeros((2**d, 2**d))\n",
    "#    for a in range(2**d):\n",
    "#        for b in range(2**d):\n",
    "#            X[a&b,a] += theta[b] * mult[a|b]\n",
    "            \n",
    "    z = np.zeros(2**d)\n",
    "    z[-1] = 1.0\n",
    "    inv = solve_triangular(X, z)\n",
    "    \n",
    "    ans = [mult[a|b]*weights[a]*inv[b] for a in range(2**d) for b in range(2**d)]\n",
    "    return np.prod(dom) * np.sum(np.array(ans))\n",
    "\n",
    "def foo(theta):\n",
    "    return err(dom, weights**2, theta**2)\n",
    "\n",
    "print np.trace(np.linalg.pinv(AtA).dot(WtW))\n",
    "print err(dom, weights**2, theta**2)\n",
    "print foo(theta)\n",
    "#print grad(foo)(theta)"
   ]
  },
  {
   "cell_type": "code",
   "execution_count": null,
   "metadata": {
    "collapsed": true
   },
   "outputs": [],
   "source": [
    "v = np.random.rand(5)\n",
    "def bar(x, i=0):\n",
    "    Y = np.triu(np.reshape(x, (5,5)))\n",
    "    return solve_triangular(Y, v)[i]\n",
    "\n",
    "def bar_grad(x, i=0):\n",
    "    X = np.triu(np.reshape(x, (5,5)))\n",
    "    Y = np.linalg.inv(X)\n",
    "    D = np.zeros_like(Y)\n",
    "    D[i] = v\n",
    "    A1 = solve_triangular(X.T, D, lower=True)\n",
    "    A2 = solve_triangular(X, A1.T)\n",
    "    return -np.triu(A2.T)\n",
    "    \n",
    "\n",
    "x = np.random.rand(25)\n",
    "print bar(x)\n",
    "print np.linalg.norm(grad(bar)(x).reshape(5,5) - bar_grad(x))"
   ]
  },
  {
   "cell_type": "code",
   "execution_count": null,
   "metadata": {
    "collapsed": true
   },
   "outputs": [],
   "source": [
    "from autograd import jacobian\n",
    "\n",
    "z = np.random.rand(6)\n",
    "def foo(Y):\n",
    "    return np.dot(Y, z)[0]\n",
    "\n",
    "def bar(X):\n",
    "    Y = np.linalg.inv(X)\n",
    "    return foo(Y)\n",
    "\n",
    "def deriv1(Y):\n",
    "    ans = np.zeros((6,6))\n",
    "    ans[0] = z\n",
    "    return ans\n",
    "\n",
    "def deriv2(X):\n",
    "    Y = np.linalg.inv(X)\n",
    "    \n",
    "    J = jacobian(np.linalg.inv)(X)\n",
    "    D = deriv1(Y)\n",
    "    A = np.zeros((6,6))\n",
    "    for i in range(6):\n",
    "        for j in range(6):\n",
    "            for k in range(6):\n",
    "                for l in range(6):\n",
    "                    A[i,j] += J[k,l,i,j] * D[k,l]\n",
    "    return A\n",
    "\n",
    "def deriv3(X):\n",
    "    Y = np.linalg.inv(X)\n",
    "    D = deriv1(Y)\n",
    "    return -Y.T.dot(D).dot(Y.T)\n",
    "\n",
    "X = np.random.rand(6,6)\n",
    "\n",
    "print foo(X)\n",
    "print deriv1(X)\n",
    "#print grad(bar)(X)\n",
    "print np.linalg.norm(grad(bar)(X) - deriv3(X))"
   ]
  },
  {
   "cell_type": "code",
   "execution_count": null,
   "metadata": {
    "collapsed": true
   },
   "outputs": [],
   "source": [
    "@primitive\n",
    "def logsumexp(x):\n",
    "    \"\"\"Numerically stable log(sum(exp(x)))\"\"\"\n",
    "    max_x = np.max(x)\n",
    "    return max_x + np.log(np.sum(np.exp(x - max_x)))\n",
    "\n",
    "def logsumexp_vjp(g, ans, vs, gvs, x):\n",
    "    x_shape = x.shape\n",
    "    return np.full(x_shape, g) * np.exp(x - np.full(x_shape, ans))\n",
    "\n",
    "logsumexp.defvjp(logsumexp_vjp)\n",
    "\n",
    "x = np.random.rand(10)\n",
    "print logsumexp(x)\n",
    "print grad(logsumexp)(x)"
   ]
  },
  {
   "cell_type": "code",
   "execution_count": null,
   "metadata": {
    "collapsed": true
   },
   "outputs": [],
   "source": [
    "from autograd import jacobian \n",
    "\n",
    "\n",
    "d = len(dom)\n",
    "mult = np.ones(2**d)\n",
    "for i in range(2**d):\n",
    "    for k in range(d):\n",
    "        if not (i & (2**k)):\n",
    "            mult[i] *= dom[k]\n",
    "\n",
    "@primitive\n",
    "def Xtheta(theta):\n",
    "    # Function from R^n -> R^{n x n}\n",
    "    # d X[a&b,a] / d T[b] = mult[a|b]\n",
    "    B = np.arange(2**d)\n",
    "    Xs = [np.bincount(a&B, weights=theta*mult[a|B], minlength=2**d) for a in range(2**d)]\n",
    "    return np.vstack(Xs).T\n",
    "\n",
    "def Xtheta_vjp(g, ans, vs, gvs, theta):\n",
    "    # Function from R^{n x n} -> R^n\n",
    "    A = np.arange(theta.size)\n",
    "    dT = [np.dot(g[A&b,A], mult[A|b]) for b in range(theta.size)]\n",
    "    return np.array(dT)\n",
    "\n",
    "Xtheta.defvjp(Xtheta_vjp)\n",
    "\n",
    "J = jacobian(Xtheta)(theta)\n",
    "X1 = Xtheta(theta)\n",
    "theta[0] += 1e-6\n",
    "X2 = Xtheta(theta)\n",
    "\n",
    "for i in range(8):\n",
    "    for j in range(8):\n",
    "        pass\n",
    "        #print jacobian(Xtheta)(theta)[i,j,0], (X2[i,j]-X1[i,j])/1e-6"
   ]
  },
  {
   "cell_type": "code",
   "execution_count": null,
   "metadata": {
    "collapsed": true
   },
   "outputs": [],
   "source": [
    "import autograd.numpy as np\n",
    "from autograd.scipy.linalg import solve_triangular \n",
    "from autograd import grad\n",
    "from autograd import primitive\n",
    "\n",
    "dom = (3,4,5)\n",
    "d = len(dom)\n",
    "theta = np.random.rand(2**d)\n",
    "weights = np.random.rand(2**d)\n",
    "AtA = MtM(dom, theta**2)\n",
    "WtW = MtM(dom, weights**2)\n",
    "\n",
    "def err(dom, weights, theta):\n",
    "    # E(t) = h(c(inv(X(t))))\n",
    "    d = len(dom)\n",
    "    mult = np.ones(2**d)\n",
    "    for i in range(2**d):\n",
    "        for k in range(d):\n",
    "            if not (i & (2**k)):\n",
    "                mult[i] *= dom[k]\n",
    "                \n",
    "    @primitive\n",
    "    def Xtheta(theta):\n",
    "        # Function from R^n -> R^{n x n}\n",
    "        # d X[a&b,a] / d T[b] = mult[a|b]\n",
    "        B = np.arange(2**d)\n",
    "        Xs = [np.bincount(a&B, weights=theta*mult[a|B], minlength=theta.size) for a in range(theta.size)]\n",
    "        return np.vstack(Xs).T\n",
    "    \n",
    "    def Xtheta_vjp(g, ans, vs, gvs, theta):\n",
    "        # Function from R^{n x n} -> R^n\n",
    "        A = np.arange(theta.size)\n",
    "        dT = [np.dot(g[A&b,A], mult[A|b]) for b in range(theta.size)]\n",
    "        return np.array(dT)\n",
    "    \n",
    "    Xtheta.defvjp(Xtheta_vjp)\n",
    "    \n",
    "    X = Xtheta(theta)\n",
    "            \n",
    "    z = np.zeros(2**d)\n",
    "    z[-1] = 1.0\n",
    "    inv = solve_triangular(X, z)\n",
    "    \n",
    "    ans = [mult[a|b]*weights[a]*inv[b] for a in range(2**d) for b in range(2**d)]\n",
    "    return np.prod(dom) * np.sum(np.array(ans))\n",
    "\n",
    "def foo(theta):\n",
    "    return err(dom, weights**2, theta**2)\n",
    "\n",
    "print np.trace(np.linalg.pinv(AtA).dot(WtW))\n",
    "print err(dom, weights**2, theta**2)\n",
    "print foo(theta)\n",
    "print grad(foo)(theta)"
   ]
  },
  {
   "cell_type": "code",
   "execution_count": 3,
   "metadata": {},
   "outputs": [
    {
     "ename": "NameError",
     "evalue": "name 'MtM' is not defined",
     "output_type": "error",
     "traceback": [
      "\u001b[0;31m---------------------------------------------------------------------------\u001b[0m",
      "\u001b[0;31mNameError\u001b[0m                                 Traceback (most recent call last)",
      "\u001b[0;32m<ipython-input-3-350109ec4954>\u001b[0m in \u001b[0;36m<module>\u001b[0;34m()\u001b[0m\n\u001b[1;32m     11\u001b[0m \u001b[0mweights\u001b[0m\u001b[0;34m[\u001b[0m\u001b[0;34m-\u001b[0m\u001b[0;36m1\u001b[0m\u001b[0;34m]\u001b[0m \u001b[0;34m=\u001b[0m \u001b[0;36m0\u001b[0m\u001b[0;34m\u001b[0m\u001b[0m\n\u001b[1;32m     12\u001b[0m \u001b[0mtheta\u001b[0m\u001b[0;34m[\u001b[0m\u001b[0;34m-\u001b[0m\u001b[0;36m1\u001b[0m\u001b[0;34m]\u001b[0m \u001b[0;34m=\u001b[0m \u001b[0;36m0\u001b[0m\u001b[0;34m\u001b[0m\u001b[0m\n\u001b[0;32m---> 13\u001b[0;31m \u001b[0mAtA\u001b[0m \u001b[0;34m=\u001b[0m \u001b[0mMtM\u001b[0m\u001b[0;34m(\u001b[0m\u001b[0mdom\u001b[0m\u001b[0;34m,\u001b[0m \u001b[0mtheta\u001b[0m\u001b[0;34m**\u001b[0m\u001b[0;36m2\u001b[0m\u001b[0;34m)\u001b[0m\u001b[0;34m\u001b[0m\u001b[0m\n\u001b[0m\u001b[1;32m     14\u001b[0m \u001b[0mWtW\u001b[0m \u001b[0;34m=\u001b[0m \u001b[0mMtM\u001b[0m\u001b[0;34m(\u001b[0m\u001b[0mdom\u001b[0m\u001b[0;34m,\u001b[0m \u001b[0mweights\u001b[0m\u001b[0;34m**\u001b[0m\u001b[0;36m2\u001b[0m\u001b[0;34m)\u001b[0m\u001b[0;34m\u001b[0m\u001b[0m\n\u001b[1;32m     15\u001b[0m \u001b[0;34m\u001b[0m\u001b[0m\n",
      "\u001b[0;31mNameError\u001b[0m: name 'MtM' is not defined"
     ]
    }
   ],
   "source": [
    "import autograd.numpy as np\n",
    "from autograd.scipy.linalg import solve_triangular \n",
    "from autograd import grad\n",
    "from autograd import primitive\n",
    "from scipy.sparse.linalg import lsmr\n",
    "\n",
    "dom = (3,4,5,6)\n",
    "d = len(dom)\n",
    "theta = np.random.rand(2**d)\n",
    "weights = np.random.rand(2**d)\n",
    "weights[-1] = 0\n",
    "theta[-1] = 0\n",
    "AtA = MtM(dom, theta**2)\n",
    "WtW = MtM(dom, weights**2)\n",
    "\n",
    "def err(dom, weights, theta):\n",
    "    assert weights[-1] == 0 or theta[-1] > 0\n",
    "    # E(t) = h(c(inv(X(t))))\n",
    "    d = len(dom)\n",
    "    mult = np.ones(2**d)\n",
    "    for i in range(2**d):\n",
    "        for k in range(d):\n",
    "            if not (i & (2**k)):\n",
    "                mult[i] *= dom[k]\n",
    "    @primitive\n",
    "    def Xtheta(theta):\n",
    "        # Function from R^n -> R^{n x n}\n",
    "        # d X[a&b,a] / d T[b] = mult[a|b]\n",
    "        B = np.arange(2**d)\n",
    "        Xs = [np.bincount(a&B, weights=theta*mult[a|B], minlength=theta.size) for a in range(theta.size)]\n",
    "        return np.vstack(Xs).T\n",
    "    \n",
    "    def Xtheta_vjp(g, ans, vs, gvs, theta):\n",
    "        # Function from R^{n x n} -> R^n\n",
    "        A = np.arange(theta.size)\n",
    "        dT = [np.dot(g[A&b,A], mult[A|b]) for b in range(theta.size)]\n",
    "        return np.array(dT)\n",
    "    \n",
    "    Xtheta.defvjp(Xtheta_vjp)\n",
    "    X = Xtheta(theta)\n",
    "    theta2 = np.dot(X, theta)\n",
    "    X = Xtheta(theta2)\n",
    "    \n",
    "    Y = X + np.diag(np.diag(X) == 0) # to deal with underdetermined systems\n",
    "    inv = solve_triangular(Y, theta)\n",
    "    \n",
    "    ans = [mult[a|b]*weights[a]*inv[b] for a in range(2**d) for b in range(2**d)]\n",
    "    \n",
    "    A = np.arange(2**d)\n",
    "    ans = [np.dot(mult[A|b],weights*inv[b]) for b in range(2**d)]\n",
    "    \n",
    "    return np.prod(dom) * np.sum(np.array(ans))\n",
    "\n",
    "def foo(theta):\n",
    "    return err(dom, weights**2, theta**2)\n",
    "\n",
    "print np.trace(np.linalg.pinv(AtA).dot(WtW))\n",
    "#print err(dom, weights**2, theta**2)\n",
    "print foo(theta)\n",
    "print grad(foo)(theta)"
   ]
  },
  {
   "cell_type": "code",
   "execution_count": null,
   "metadata": {
    "collapsed": true
   },
   "outputs": [],
   "source": [
    "np.apply_along_axis(np)"
   ]
  },
  {
   "cell_type": "code",
   "execution_count": null,
   "metadata": {
    "collapsed": true
   },
   "outputs": [],
   "source": [
    "def tmp(theta):\n",
    "    # Function from R^n -> R^{n x n}\n",
    "    # d X[a&b,a] / d T[b] = mult[a|b]\n",
    "    \n",
    "    B = np.arange(theta.size)\n",
    "    Xs = [np.bincount(a&B, weights=theta, minlength=theta.size) for a in range(2**d)]\n",
    "    return np.vstack(Xs).T\n",
    "\n",
    "for d in range(2,14):\n",
    "    dense = 2.0**(2*d)\n",
    "    sparse = np.sum(tmp(np.random.rand(2**d))>0)\n",
    "    print d, dense, sparse, 3**d, sparse/dense"
   ]
  },
  {
   "cell_type": "code",
   "execution_count": 168,
   "metadata": {},
   "outputs": [
    {
     "name": "stdout",
     "output_type": "stream",
     "text": [
      "[ 1.1194 -4.0237  1.0553 -1.8257  1.711 ]\n",
      "0.0\n",
      "0.0\n",
      "0.0\n",
      "0.0\n",
      "0.0\n"
     ]
    }
   ],
   "source": [
    "import autograd.numpy as np\n",
    "from autograd import jacobian\n",
    "from autograd.scipy.linalg import solve_triangular\n",
    "from autograd import primitive\n",
    "\n",
    "v = np.random.rand(5)\n",
    "def foo(X):\n",
    "    return solve_triangular(X, v)\n",
    "\n",
    "def myjac(X, i=0):\n",
    "    e = np.zeros(5)\n",
    "    e[i] = 1\n",
    "    v = solve_triangular(X.T, e, lower=True)\n",
    "    return -np.triu(np.outer(v, foo(X)))\n",
    "\n",
    "X = np.triu(np.random.rand(5,5))\n",
    "\n",
    "print foo(X)\n",
    "J1 = jacobian(foo)(X)\n",
    "for i in range(5):\n",
    "    print np.linalg.norm(J1[i,:,:] - myjac(X, i))"
   ]
  },
  {
   "cell_type": "code",
   "execution_count": 127,
   "metadata": {},
   "outputs": [
    {
     "name": "stdout",
     "output_type": "stream",
     "text": [
      "CPU times: user 21 s, sys: 80 ms, total: 21 s\n",
      "Wall time: 21 s\n"
     ]
    },
    {
     "data": {
      "text/plain": [
       "21253180194575180.0"
      ]
     },
     "execution_count": 127,
     "metadata": {},
     "output_type": "execute_result"
    }
   ],
   "source": [
    "import numpy as np\n",
    "from scipy.sparse.linalg import spsolve_triangular\n",
    "from scipy.linalg import solve_triangular \n",
    "from scipy import sparse\n",
    "import time\n",
    "\n",
    "dom = (3,4,5)\n",
    "d = len(dom)\n",
    "theta = np.random.rand(2**d)\n",
    "weights = np.random.rand(2**d)\n",
    "AtA = MtM(dom, theta**2)\n",
    "WtW = MtM(dom, weights**2)\n",
    "\n",
    "def err(dom, weights, theta):\n",
    "    assert weights[-1] == 0 or theta[-1] > 0\n",
    "    # E(t) = h(c(inv(X(t))))\n",
    "    d = len(dom)\n",
    "    mult = np.ones(2**d)\n",
    "    for i in range(2**d):\n",
    "        for k in range(d):\n",
    "            if not (i & (2**k)):\n",
    "                mult[i] *= dom[k]\n",
    "              \n",
    "    # Dense\n",
    "    B = np.arange(2**d)\n",
    "    #Xs = [np.bincount(a&B, theta*mult[a|B], theta.size) for a in range(theta.size)]\n",
    "    #X = np.vstack(Xs).T\n",
    "    \n",
    "    # Sparse\n",
    "    values = np.zeros(3**d)\n",
    "    rows = np.zeros(3**d, dtype=int)\n",
    "    cols = np.zeros(3**d, dtype=int)\n",
    "    start = 0\n",
    "    for a in range(2**d):\n",
    "        #uniq, rev = np.unique(a&B, return_inverse=True) # most of time being spent here\n",
    "        msk = np.zeros(2**d, dtype=int)\n",
    "        msk[B&a] = 1\n",
    "        uniq = np.nonzero(msk)[0]\n",
    "        step = uniq.size\n",
    "        msk[uniq] = np.arange(step)\n",
    "        rev = msk[B&a]\n",
    "        values[start:start+step] = np.bincount(rev, theta*mult[a|B], step)\n",
    "        cols[start:start+step] = a\n",
    "        rows[start:start+step] = uniq\n",
    "        start += step\n",
    "        \n",
    "    X = sparse.csr_matrix((values, (rows, cols)), (2**d, 2**d))\n",
    "    \n",
    "    z = np.zeros(2**d)\n",
    "    z[-1] = 1.0\n",
    "    inv = spsolve_triangular(X, z, lower=False)\n",
    "    \n",
    "    A = np.arange(2**d)\n",
    "    ans = [np.dot(mult[A|b],weights*inv[b]) for b in range(2**d)]\n",
    "    \n",
    "    return np.prod(dom) * np.sum(ans)\n",
    "\n",
    "def foo(d):\n",
    "    dom = [10]*d\n",
    "    theta = np.random.rand(2**d)\n",
    "    weights = np.random.rand(2**d)\n",
    "    return err(dom, weights**2, theta**2)\n",
    "\n",
    "%time foo(15)"
   ]
  },
  {
   "cell_type": "code",
   "execution_count": 237,
   "metadata": {},
   "outputs": [
    {
     "name": "stdout",
     "output_type": "stream",
     "text": [
      "5.15716769771\n",
      "CPU times: user 48.8 s, sys: 140 ms, total: 49 s\n",
      "Wall time: 49 s\n"
     ]
    }
   ],
   "source": [
    "import numpy as np\n",
    "from scipy.sparse.linalg import spsolve_triangular\n",
    "from scipy.linalg import solve_triangular \n",
    "from scipy import sparse\n",
    "import time\n",
    "\n",
    "dom = [10]*15\n",
    "d = len(dom)\n",
    "mult = np.ones(2**d)\n",
    "for i in range(2**d):\n",
    "    for k in range(d):\n",
    "        if not (i & (2**k)):\n",
    "            mult[i] *= dom[k]\n",
    "weights = np.random.rand(2**d)\n",
    "weights[-1] = 0\n",
    "A = np.arange(2**d)\n",
    "\n",
    "def f(phi):\n",
    "    n = np.prod(dom)\n",
    "    # Note: not mulitplying by n\n",
    "    ans = np.sum([phi[b]*np.dot(mult[A|b],weights**2) for b in range(2**d)])\n",
    "    dphi = np.array([np.dot(weights**2, mult[A|b]) for b in range(2**d)])\n",
    "    return ans, dphi\n",
    "\n",
    "def Xmatrix(theta2):\n",
    "    values = np.zeros(3**d)\n",
    "    rows = np.zeros(3**d, dtype=int)\n",
    "    cols = np.zeros(3**d, dtype=int)\n",
    "    start = 0\n",
    "    for b in range(2**d):\n",
    "        #uniq, rev = np.unique(a&B, return_inverse=True) # most of time being spent here\n",
    "        msk = np.zeros(2**d, dtype=int)\n",
    "        msk[A&b] = 1\n",
    "        uniq = np.nonzero(msk)[0]\n",
    "        step = uniq.size\n",
    "        msk[uniq] = np.arange(step)\n",
    "        rev = msk[A&b]\n",
    "        #print start, start+step, rev\n",
    "        values[start:start+step] = np.bincount(rev, theta2*mult[A|b], step)\n",
    "        cols[start:start+step] = b\n",
    "        rows[start:start+step] = uniq\n",
    "        start += step\n",
    "    X = sparse.csr_matrix((values, (rows, cols)), (2**d, 2**d))\n",
    "    # Note: If X is not full rank, need to modify it so that solve_triangular works\n",
    "    # This doesn't impact the gradient calculations though\n",
    "    # a finite difference sanity check might suggest otherwise, \n",
    "    # but a valid subgradient at theta_k = 0 is 0 due to symmetry\n",
    "    D = sparse.diags((X.diagonal()==0).astype(np.float64))\n",
    "    return X+D\n",
    "\n",
    "def E(theta):\n",
    "    theta2 = theta**2\n",
    "    Y = Xmatrix(theta2)\n",
    "    params = Y.dot(theta2)\n",
    "    X = Xmatrix(params)\n",
    "    phi = spsolve_triangular(X, theta2, lower=False)\n",
    "    ans, dphi = f(phi)\n",
    "    dXvect = -spsolve_triangular(X.T, dphi, lower=True)\n",
    "    # dX = outer(dXvect, phi)\n",
    "    dparams = np.array([np.dot(dXvect[A&b]*phi, mult[A|b]) for b in range(2**d)])\n",
    "    dtheta2 = Y.T.dot(dparams)\n",
    "    return ans, 2*theta*dtheta2\n",
    "\n",
    "def check_E():\n",
    "    eps = 1e-6\n",
    "    theta = np.random.rand(2**d)\n",
    "    #theta[-1] = 0\n",
    "    ans, dtheta = E(theta)\n",
    "    print dtheta\n",
    "    approx = np.zeros(2**d)\n",
    "    for i in range(2**d):\n",
    "        theta[i] += eps\n",
    "        tmp, _ = E(theta)\n",
    "        approx[i] = (tmp - ans) / eps\n",
    "        theta[i] -= eps\n",
    "    print approx\n",
    "    \n",
    "theta = np.random.rand(2**d)\n",
    "#AtA = MtM(dom, theta**2)\n",
    "#WtW = MtM(dom, weights**2)\n",
    "#print np.trace(WtW.dot(np.linalg.pinv(AtA)))\n",
    "%time print E(theta)[0]\n",
    "#check_E()"
   ]
  },
  {
   "cell_type": "code",
   "execution_count": 197,
   "metadata": {},
   "outputs": [
    {
     "data": {
      "text/plain": [
       "array([[ 0.,  0.,  0.,  0.,  0.,  0.,  0.,  0.],\n",
       "       [ 0.,  0.,  0.,  0.,  0.,  0.,  0.,  0.],\n",
       "       [ 0.,  0.,  0.,  0.,  0.,  0.,  0.,  0.],\n",
       "       [ 0.,  0.,  0.,  0.,  0.,  0.,  0.,  0.],\n",
       "       [ 0.,  0.,  0.,  0.,  0.,  0.,  0.,  0.],\n",
       "       [ 0.,  0.,  0.,  0.,  0.,  0.,  0.,  0.],\n",
       "       [ 0.,  0.,  0.,  0.,  0.,  0.,  0.,  0.],\n",
       "       [ 0.,  0.,  0.,  0.,  0.,  0.,  0.,  1.]])"
      ]
     },
     "execution_count": 197,
     "metadata": {},
     "output_type": "execute_result"
    }
   ],
   "source": [
    "theta = np.random.rand(2**d)\n",
    "theta[-1] = 0\n",
    "X = Xmatrix(theta)\n",
    "sparse.diags((X.diagonal()==0).astype(float)).toarray()"
   ]
  },
  {
   "cell_type": "code",
   "execution_count": 175,
   "metadata": {
    "collapsed": true
   },
   "outputs": [],
   "source": [
    "import numpy as np\n",
    "from scipy.sparse.linalg import LinearOperator, aslinearoperator\n",
    "def MtM_linop(domain, weights):\n",
    "    d = len(domain)\n",
    "    n = np.prod(domain)\n",
    "    def axes(i):\n",
    "        return tuple([k for k in range(d) if not i & 2**k])\n",
    "    zipped = [(weights[i], axes(i)) for i in range(2**d) if weights[i] != 0]\n",
    "    def matvec(v):\n",
    "        X = v.reshape(domain)\n",
    "        Y = np.zeros(domain, dtype=weights.dtype)\n",
    "        for w, ax in zipped:\n",
    "            Y += w*X.sum(axis=ax, keepdims=True)\n",
    "        return Y.flatten()\n",
    "    return LinearOperator((n,n), matvec, matvec, dtype=weights.dtype)\n",
    "\n",
    "def M_linop(domain, weights):\n",
    "    d = len(domain)\n",
    "    def axes(i):\n",
    "        return tuple([k for k in range(d) if not i & 2**k])\n",
    "    def size(i):\n",
    "        return np.prod([domain[k] for k in range(d) if i & 2**k], dtype=int)\n",
    "    zipped = [(weights[i], axes(i)) for i in range(2**d) if weights[i] != 0]\n",
    "    sizes = [size(i) for i in range(2**d) if weights[i] != 0]\n",
    "    idx = np.cumsum(sizes)[:-1]\n",
    "    def matvec(x):\n",
    "        X = x.reshape(domain)\n",
    "        return np.concatenate([w*X.sum(axis=ax).flatten() for w,ax in zipped])\n",
    "    def rmatvec(y):\n",
    "        ys = np.split(y, idx)\n",
    "        X = np.zeros(domain)\n",
    "        for (w,ax), z in zip(zipped, ys):\n",
    "            tmp = tuple([1 if k in ax else domain[k] for k in range(d)])\n",
    "            X += w*z.reshape(tmp)\n",
    "        return X.flatten()\n",
    "    \n",
    "    m, n = sum(sizes), np.prod(domain)\n",
    "    return LinearOperator((m,n), matvec, rmatvec, dtype=weights.dtype)\n",
    "\n",
    "def M_dense(domain, weights):\n",
    "    result = []\n",
    "    def axes(i):\n",
    "        return tuple([k for k in range(d) if not i & 2**k])\n",
    "    zipped = [(weights[i], axes(i)) for i in range(2**d) if weights[i] != 0]\n",
    "    base = [np.eye(n) for n in domain]\n",
    "    for w, ax in zipped:\n",
    "        tmp = list(base)\n",
    "        for k in ax: tmp[k] = np.ones(domain[k])\n",
    "        result.append(w*reduce(np.kron, tmp))\n",
    "    return np.vstack(result)        "
   ]
  },
  {
   "cell_type": "code",
   "execution_count": 176,
   "metadata": {},
   "outputs": [
    {
     "name": "stdout",
     "output_type": "stream",
     "text": [
      "checkpt\n",
      "CPU times: user 0 ns, sys: 0 ns, total: 0 ns\n",
      "Wall time: 104 µs\n"
     ]
    }
   ],
   "source": [
    "dom = (2,3,4)\n",
    "d = len(dom)\n",
    "dtype = np.float64\n",
    "w = np.random.rand(2**d).astype(dtype)\n",
    "#w[np.random.rand(2**d)<0.75] = 0\n",
    "MtM1 = MtM_linop(dom, w)\n",
    "#MtM2 = MtM(dom, w)\n",
    "v = np.random.rand(np.prod(dom)).astype(dtype)\n",
    "#print np.linalg.norm(MtM1.dot(v) - MtM2.dot(v))\n",
    "#print np.linalg.norm(MtM1.H.dot(v) - MtM2.T.dot(v))\n",
    "print 'checkpt'\n",
    "%time y = MtM1.dot(v)"
   ]
  },
  {
   "cell_type": "code",
   "execution_count": 177,
   "metadata": {},
   "outputs": [
    {
     "name": "stdout",
     "output_type": "stream",
     "text": [
      "1.25607396695e-15\n",
      "4.4408920985e-15\n",
      "1.11731275387e-15\n",
      "0.0\n"
     ]
    }
   ],
   "source": [
    "MtM1 = MtM_linop(dom, w**2)\n",
    "M1 = M_linop(dom, w)\n",
    "print np.linalg.norm(M1.H.dot(M1.dot(v)) - MtM1.dot(v))\n",
    "\n",
    "M = M_dense(dom, w)\n",
    "\n",
    "print np.linalg.norm(M.T.dot(M).dot(v) - MtM1.dot(v))\n",
    "print np.linalg.norm(M.dot(v) - M1.dot(v))\n",
    "u = np.random.rand(M1.shape[0])\n",
    "print np.linalg.norm(M.T.dot(u) - M1.H.dot(u))"
   ]
  },
  {
   "cell_type": "code",
   "execution_count": 109,
   "metadata": {},
   "outputs": [
    {
     "data": {
      "text/plain": [
       "[array([ 0.40490196,  0.88492224]),\n",
       " array([ 0.18752642]),\n",
       " array([ 0.02019139,  0.59657716,  0.93521953,  0.80511318,  0.72044427,\n",
       "         0.3623848 ,  0.94657748])]"
      ]
     },
     "execution_count": 109,
     "metadata": {},
     "output_type": "execute_result"
    }
   ],
   "source": [
    "np.split(np.random.rand(10), [2,3])"
   ]
  },
  {
   "cell_type": "code",
   "execution_count": 126,
   "metadata": {},
   "outputs": [
    {
     "data": {
      "text/plain": [
       "array([ True,  True,  True], dtype=bool)"
      ]
     },
     "execution_count": 126,
     "metadata": {},
     "output_type": "execute_result"
    }
   ],
   "source": []
  },
  {
   "cell_type": "code",
   "execution_count": null,
   "metadata": {
    "collapsed": true
   },
   "outputs": [],
   "source": []
  }
 ],
 "metadata": {
  "kernelspec": {
   "display_name": "Python 2",
   "language": "python",
   "name": "python2"
  },
  "language_info": {
   "codemirror_mode": {
    "name": "ipython",
    "version": 2
   },
   "file_extension": ".py",
   "mimetype": "text/x-python",
   "name": "python",
   "nbconvert_exporter": "python",
   "pygments_lexer": "ipython2",
   "version": "2.7.12"
  }
 },
 "nbformat": 4,
 "nbformat_minor": 2
}
