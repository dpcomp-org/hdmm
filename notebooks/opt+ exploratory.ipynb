{
 "cells": [
  {
   "cell_type": "code",
   "execution_count": 1,
   "metadata": {},
   "outputs": [],
   "source": [
    "from hdmm.workload import *\n",
    "from hdmm import templates, error\n",
    "%load_ext autoreload\n",
    "%autoreload 2"
   ]
  },
  {
   "cell_type": "code",
   "execution_count": 39,
   "metadata": {},
   "outputs": [],
   "source": [
    "n = 128\n",
    "P = Prefix(n)\n",
    "T = Total(n)\n",
    "I = Identity(n)\n",
    "S = EkteloMatrix(np.kron(np.eye(4), np.ones(n // 4)))\n",
    "K = lambda *A: Kronecker(A)\n",
    "\n",
    "W1 = VStack([K(P,T), K(T, P)])\n",
    "W2 = VStack([K(P, S), K(S, P)])\n",
    "W3 = VStack([K(P,P,T),K(P,T,P), K(T,P,P)])\n",
    "W4 = VStack([K(P,P,T), K(P,T,P), K(T,P,P), K(P,T,T), K(T,P,T), K(T,T,P)])\n",
    "W5 = VStack([K(I,I,T), K(I,T,I), K(T,I,I)])"
   ]
  },
  {
   "cell_type": "code",
   "execution_count": 40,
   "metadata": {},
   "outputs": [
    {
     "name": "stdout",
     "output_type": "stream",
     "text": [
      "14.39030429003844 8.994703513917983 11.381295819255488\n",
      "10.16515134408462 12.321383254830337 38.05277676382285\n",
      "83.60040364635458 60.38831768164826 98.67828341649532\n",
      "80.90127541207043 67.26306111669037 98.49002758095769\n",
      "17.857277056913656 3.009599456647092 2.988292586405388\n"
     ]
    }
   ],
   "source": [
    "for W in [W1, W2, W3, W4, W5]:\n",
    "    d = len(W.matrices[0].matrices)\n",
    "    p = n//16\n",
    "    optx = templates.KronPIdentity([p]*d, [n]*d)\n",
    "    optx.optimize(W)\n",
    "    A = optx.strategy()\n",
    "    error1 = error.rootmse(W, A)\n",
    "    \n",
    "    ps = []\n",
    "    for Wi in W.matrices:\n",
    "        ps.append(tuple(1 if Q == T else p for Q in Wi.matrices))\n",
    "    optp = templates.UnionKron(ps, [n]*d)\n",
    "    optp.optimize(W.matrices)\n",
    "    \n",
    "    error2 = 0\n",
    "    for Wi, Ai in zip(W.matrices, optp.strategy().matrices):\n",
    "        w, A = Ai.weight, Ai.base\n",
    "        error2 += error.expected_error(Wi, A) / w**2\n",
    "    error2 = np.sqrt(error2 / W.shape[0])\n",
    "    \n",
    "    optm = templates.Marginals([n]*d)\n",
    "    optm.optimize(W)\n",
    "    error3 = optm._loss_and_grad(optm._params)[0] * n**d\n",
    "    error3 = np.sqrt(error3 / W.shape[0])\n",
    "    \n",
    "    print(error1, error2, error3)"
   ]
  },
  {
   "cell_type": "code",
   "execution_count": 33,
   "metadata": {},
   "outputs": [
    {
     "data": {
      "text/plain": [
       "array([0.30939335, 0.31152226, 0.3108255 , 0.02268439, 0.02286453,\n",
       "       0.02270996])"
      ]
     },
     "execution_count": 33,
     "metadata": {},
     "output_type": "execute_result"
    }
   ],
   "source": [
    "optp._weights"
   ]
  },
  {
   "cell_type": "code",
   "execution_count": null,
   "metadata": {},
   "outputs": [],
   "source": []
  }
 ],
 "metadata": {
  "kernelspec": {
   "display_name": "Python 3",
   "language": "python",
   "name": "python3"
  },
  "language_info": {
   "codemirror_mode": {
    "name": "ipython",
    "version": 3
   },
   "file_extension": ".py",
   "mimetype": "text/x-python",
   "name": "python",
   "nbconvert_exporter": "python",
   "pygments_lexer": "ipython3",
   "version": "3.6.7"
  }
 },
 "nbformat": 4,
 "nbformat_minor": 2
}
