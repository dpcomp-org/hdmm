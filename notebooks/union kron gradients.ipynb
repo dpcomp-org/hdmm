{
 "cells": [
  {
   "cell_type": "code",
   "execution_count": 1,
   "metadata": {
    "collapsed": true
   },
   "outputs": [],
   "source": [
    "import numpy as np\n",
    "import workload\n",
    "\n",
    "def err(A, W):\n",
    "    AtA1 = np.linalg.pinv(A.T.dot(A))\n",
    "    WtW = W.T.dot(W)\n",
    "    return np.sum(WtW * AtA1)\n",
    "\n",
    "def obj(As, W):\n",
    "    V = np.zeros((W.shape[0], len(As)))\n",
    "    Bs = [np.linalg.pinv(A) for A in As]\n",
    "    Xs = [W.dot(B) for B in Bs]\n",
    "    V = np.vstack([np.sum(X**2, axis=1) for X in Xs])\n",
    "    s = np.sum(1.0/V, axis=0)\n",
    "    f = np.sum(1.0 / s)\n",
    "    \n",
    "    dV = 1 / (V**2 * s**2)\n",
    "    dXs = [2*X*dv[:,None] for X, dv in zip(Xs, dV)]\n",
    "    dBs = [W.T.dot(dX) for dX in dXs]\n",
    "    dAs = []\n",
    "    for A, B, dB in zip(As, Bs, dBs):\n",
    "        m, n = A.shape\n",
    "        dA = -B.dot(dB.T).dot(B)\n",
    "        dA += B.dot(B.T).dot(dB).dot(np.eye(m) - A.dot(B))\n",
    "        dA += (np.eye(n) - B.dot(A)).dot(dB).dot(B.T).dot(B)\n",
    "        dAs.append(dA.T)\n",
    "    \n",
    "    return f, dAs\n",
    "    "
   ]
  },
  {
   "cell_type": "code",
   "execution_count": 2,
   "metadata": {},
   "outputs": [
    {
     "name": "stdout",
     "output_type": "stream",
     "text": [
      "[-14.54463118 -18.48842137 -17.08334543 -20.98424585 -22.70057028\n",
      " -30.34896722 -44.01466588 -16.58639986 -22.61823456 -20.53975518\n",
      " -41.39794428 -28.05124834 -16.44866429 -14.44347891 -16.42106535\n",
      " -13.50129744]\n",
      "[-14.54444588 -18.48820602 -17.08312405 -20.98397109 -22.70027383\n",
      " -30.34856181 -44.01407365 -16.58620038 -22.61794319 -20.53949424\n",
      " -41.39738807 -28.05087448 -16.44845689 -14.44330942 -16.42087366\n",
      " -13.50112466]\n"
     ]
    }
   ],
   "source": [
    "W = workload.AllRange(16).W\n",
    "A = np.vstack([np.eye(16), np.random.rand(16)])\n",
    "I = np.eye(16)\n",
    "f, dA = obj([A, I], W)\n",
    "\n",
    "approx = np.zeros(16)\n",
    "for i in range(16):\n",
    "    A[i,i] += 1e-5\n",
    "    f1, _ = obj([A,I], W)\n",
    "    approx[i] = (f1 - f) / 1e-5\n",
    "    A[i,i] -= 1e-5\n",
    "print np.diag(dA[0])\n",
    "print approx"
   ]
  },
  {
   "cell_type": "code",
   "execution_count": 197,
   "metadata": {},
   "outputs": [
    {
     "name": "stdout",
     "output_type": "stream",
     "text": [
      "277.788517265\n",
      "(9, 8) (6, 5)\n"
     ]
    }
   ],
   "source": [
    "import autograd.numpy as np\n",
    "from autograd import grad\n",
    "\n",
    "def pinv_vjp(g, ans, vs, gvs, A):\n",
    "    A1 = np.linalg.pinv(A)\n",
    "    In = np.eye(A.shape[1])\n",
    "    Im = np.eye(A.shape[0])\n",
    "    term1 = -np.dot(A1, np.dot(g.T, A1))\n",
    "    term2 = np.dot(np.dot(A1, A1.T), np.dot(g, Im - np.dot(A, A1)))\n",
    "    term3 = np.dot(In - np.dot(A1, A), np.dot(g, np.dot(A1.T, A1)))\n",
    "    return (term1 + term2 + term3).T\n",
    "\n",
    "np.linalg.pinv.defvjp(pinv_vjp)\n",
    "\n",
    "def kron_obj(As, Ws):\n",
    "    # As is a l x d table\n",
    "    # Ws is a k x d table\n",
    "    L = len(As)\n",
    "    K = len(Ws)\n",
    "    D = len(As[0])\n",
    "    \n",
    "    #deltas = sum([reduce(np.kron, [np.sum(A, axis=0)[:,None] for A in kron]) for kron in As])\n",
    "    #delta = np.max(deltas)**2\n",
    "    #delta = np.sum(eps)**2\n",
    "    delta = 1.0\n",
    "    \n",
    "    #print 'delta', np.max(deltas) / np.min(deltas)\n",
    "    \n",
    "    # Todo: global normalization rather than local\n",
    "    Bs = [[np.linalg.pinv(A/np.sum(A, axis=0)) for A in kron] for kron in As]\n",
    "    V = [[None for _ in range(K)] for _ in range(L)]\n",
    "    for l in range(L):\n",
    "        for k in range(K):\n",
    "            v = [None for _ in range(D)]\n",
    "            for d in range(D):\n",
    "                A = As[l][d] / np.sum(As[l][d], axis=0)\n",
    "                X = np.dot(Ws[k][d], Bs[l][d])\n",
    "                # check to make sure strategy supports workload\n",
    "                v[d] = np.sum(X**2, axis=1)[:,None]\n",
    "                if not np.allclose(np.dot(X, A), Ws[k][d]):\n",
    "                    print 'checkpt'\n",
    "            V[l][k] = reduce(np.kron, v).flatten()\n",
    "            \n",
    "    V2 = np.array([np.concatenate(vs) for vs in V]) / eps[:,None]**2\n",
    "    \n",
    "    s = np.sum(1.0/V2, axis=0)\n",
    "    f = np.sum(1.0 / s)\n",
    "    return delta*f\n",
    "                \n",
    "I = np.eye(8)\n",
    "A1 = np.vstack([np.eye(8),np.random.rand(8)])\n",
    "A2 = np.vstack([np.eye(5),np.random.rand(5)])\n",
    "As = [[A1, A2]]\n",
    "W1 = np.random.rand(8,8)\n",
    "W2 = np.random.rand(4,5)\n",
    "Ws = [[W1, W2]]\n",
    "eps = np.ones(2)\n",
    "\n",
    "print kron_obj(As, Ws)\n",
    "dA = grad(kron_obj)(As, Ws)\n",
    "\n",
    "print dA[0][0].shape, dA[0][1].shape\n",
    "\n",
    "    "
   ]
  },
  {
   "cell_type": "code",
   "execution_count": 200,
   "metadata": {},
   "outputs": [
    {
     "name": "stdout",
     "output_type": "stream",
     "text": [
      "0.122390314811\n",
      "0.216194720791\n",
      "0.307232642807\n",
      "0.519059160643\n",
      "0.735007897108\n",
      "1.11188542348\n",
      "1.63235197036\n",
      "1.91284331855\n",
      "2.24676608232\n",
      "3.22833712618\n",
      "4.50557554573\n",
      "5.56471812278\n",
      "6.60729500881\n",
      "8.34521155237\n",
      "3.62872670146\n",
      "8.57274087006\n",
      "8.92953591429\n",
      "9.15142632231\n",
      "8.90476337347\n",
      "9.44856720228\n",
      "10.5492207042\n",
      "1.21882914238\n",
      "10.6713994671\n",
      "4.51310494846\n",
      "10.6804068464\n",
      "10.1404306571\n",
      "10.8558510115\n",
      "3.7143251945\n",
      "10.8570058065\n",
      "8.52560679802\n",
      "10.872604219\n",
      "9.35123952683\n",
      "11.1681942779\n",
      "4.64673324838\n",
      "11.1707092687\n",
      "11.1708077616\n",
      "11.2711602599\n",
      "4.53378475571\n",
      "11.3910888752\n",
      "4.82537696943\n",
      "11.3929083005\n",
      "11.2918720605\n",
      "11.4872162339\n",
      "6.14091959541\n",
      "11.5673170911\n",
      "11.8279253325\n",
      "12.1655782389\n",
      "11.8662519132\n",
      "12.2331675814\n",
      "7.75604414641\n",
      "12.2973496096\n",
      "12.2802799238\n",
      "12.0973151465\n",
      "12.3443855257\n",
      "12.1421307903\n",
      "12.4489388646\n",
      "1.74345147371\n",
      "12.3910427562\n",
      "12.451439646\n",
      "8.11959105613\n",
      "11.8893571364\n",
      "12.443001376\n",
      "12.4515673896\n",
      "12.458512403\n",
      "12.4696741977\n",
      "12.4934692541\n",
      "9.97090919336\n",
      "12.5010196104\n",
      "8.85646487732\n",
      "12.502162793\n",
      "12.5057192966\n",
      "12.5171865951\n",
      "12.5229471745\n",
      "12.5255501835\n",
      "11.8842836428\n",
      "12.5258203081\n",
      "11.6982119582\n",
      "12.5258222981\n",
      "11.7715706285\n",
      "12.525823638\n",
      "11.8189782371\n",
      "12.5258236403\n"
     ]
    }
   ],
   "source": [
    "from scipy import optimize\n",
    "import workload\n",
    "from experiments.census_workloads import CensusSF1\n",
    "from scipy.optimize import minimize\n",
    "\n",
    "sf1 = CensusSF1()\n",
    "\n",
    "Ws = [[S.W for S in K.workloads] for K in sf1.workloads]\n",
    "ps = [1,1,6,1,10]\n",
    "As = [[np.vstack([np.eye(n), np.random.rand(p,n)]) for p, n in zip(ps, sf1.domain)] for _ in range(2)]\n",
    "D = len(As[0])\n",
    "L = len(As)\n",
    "\n",
    "def vect_to_mats(params):\n",
    "    idx = 0\n",
    "    ans = []\n",
    "    for _ in range(2):\n",
    "        Ai = []\n",
    "        for n, p in zip(sf1.domain, ps):\n",
    "            stop = idx+n*(n+p)\n",
    "            Ai.append(params[idx:stop].reshape(n+p, n))\n",
    "            idx = stop\n",
    "        ans.append(Ai)\n",
    "    return ans\n",
    "\n",
    "def mats_to_vect(As):\n",
    "    vects = []\n",
    "    for i in range(2):\n",
    "        vects.append(np.concatenate([A.flatten() for A in As[i]]))\n",
    "    return np.concatenate(vects)\n",
    "\n",
    "gradient1 = grad(kron_obj, argnum=0)\n",
    "#gradient2 = grad(kron_obj, argnum=1)\n",
    "id_err = kron_obj([[np.eye(n) for n in sf1.domain]], Ws)\n",
    "\n",
    "def loss_and_grad(params):\n",
    "    #eps = params[:2]\n",
    "    As = vect_to_mats(params)\n",
    "    #eps = params[:2]\n",
    "    ans = kron_obj(As, Ws)\n",
    "    dAs = gradient1(As, Ws)\n",
    "    #deps = gradient2(As, eps, Ws)\n",
    "    dparams = mats_to_vect(dAs)\n",
    "    print id_err / ans\n",
    "    #print ans, params.sum(), np.sum([[np.sum(A) for A in Ai] for Ai in As])\n",
    "    return ans, dparams\n",
    "\n",
    "#print kron_obj(As, Ws)\n",
    "#print grad(kron_obj)(As, Ws)\n",
    "\n",
    "#eps = np.ones(2)\n",
    "params = mats_to_vect(As)\n",
    "bounds = [(0, None)] * params.size\n",
    "res = optimize.minimize(loss_and_grad, x0=params, method='L-BFGS-B', jac=True, bounds=bounds)"
   ]
  },
  {
   "cell_type": "code",
   "execution_count": 208,
   "metadata": {},
   "outputs": [
    {
     "name": "stdout",
     "output_type": "stream",
     "text": [
      "(2, 2, 64, 17, 115) 33\n",
      "0.079835069431\n",
      "[[ 0.01244673  0.        ]\n",
      " [ 0.          1.        ]\n",
      " [ 0.98755327  0.        ]]\n"
     ]
    }
   ],
   "source": [
    "As = vect_to_mats(res.x)\n",
    "print sf1.domain, len(Ws)\n",
    "print kron_obj(As, Ws) / id_err\n",
    "As = vect_to_mats(res.x)\n",
    "def normalize(A):\n",
    "    return A / A.sum(axis=0)\n",
    "print normalize(As[1][1])"
   ]
  },
  {
   "cell_type": "code",
   "execution_count": 131,
   "metadata": {},
   "outputs": [
    {
     "name": "stderr",
     "output_type": "stream",
     "text": [
      "/home/ryan/virtualenvs/PyDpcomp/lib/python2.7/site-packages/ipykernel_launcher.py:42: RuntimeWarning: divide by zero encountered in divide\n"
     ]
    }
   ],
   "source": [
    "Ws = [[S.W for S in K.workloads] for K in sf1.workloads]\n",
    "As = vect_to_mats(res.x)\n",
    "_, V = kron_obj(As, Ws)\n",
    "#dAs = gradient(As, Ws)"
   ]
  },
  {
   "cell_type": "code",
   "execution_count": 129,
   "metadata": {},
   "outputs": [
    {
     "data": {
      "text/plain": [
       "array([[  0.00000000e+00,   0.00000000e+00,   0.00000000e+00, ...,\n",
       "          0.00000000e+00,   0.00000000e+00,   0.00000000e+00],\n",
       "       [  4.65193887e-04,   2.31354605e-05,   2.63760322e-05, ...,\n",
       "          6.99569653e-06,   6.55013243e-06,   8.45687156e-05]])"
      ]
     },
     "execution_count": 129,
     "metadata": {},
     "output_type": "execute_result"
    }
   ],
   "source": [
    "V"
   ]
  },
  {
   "cell_type": "code",
   "execution_count": null,
   "metadata": {
    "collapsed": true
   },
   "outputs": [],
   "source": []
  }
 ],
 "metadata": {
  "kernelspec": {
   "display_name": "Python 2",
   "language": "python",
   "name": "python2"
  },
  "language_info": {
   "codemirror_mode": {
    "name": "ipython",
    "version": 2
   },
   "file_extension": ".py",
   "mimetype": "text/x-python",
   "name": "python",
   "nbconvert_exporter": "python",
   "pygments_lexer": "ipython2",
   "version": "2.7.12"
  }
 },
 "nbformat": 4,
 "nbformat_minor": 2
}
