{
 "cells": [
  {
   "cell_type": "code",
   "execution_count": 1,
   "metadata": {},
   "outputs": [],
   "source": [
    "import pickle\n",
    "import numpy as np\n",
    "from hdmm import templates, workload, error, more_templates\n",
    "%load_ext autoreload\n",
    "%autoreload 2"
   ]
  },
  {
   "cell_type": "code",
   "execution_count": 2,
   "metadata": {},
   "outputs": [],
   "source": [
    "W = pickle.load(open('household_wkld.pckl', 'rb'))\n",
    "dom = (2,9,2,7,8,24,4,2)\n",
    "#temp = templates.Marginals(dom)\n",
    "\n",
    "#A, loss = temp.restart_optimize(W, 10)"
   ]
  },
  {
   "cell_type": "code",
   "execution_count": 3,
   "metadata": {},
   "outputs": [],
   "source": [
    "queries = [[] for _ in range(8)]\n",
    "\n",
    "for kron in W.matrices:\n",
    "    for sub, q in zip(kron.matrices, queries):\n",
    "        q.append(sub.dense_matrix())\n",
    "\n",
    "queries = [np.vstack(q) for q in queries]"
   ]
  },
  {
   "cell_type": "code",
   "execution_count": 4,
   "metadata": {},
   "outputs": [
    {
     "name": "stdout",
     "output_type": "stream",
     "text": [
      "[[0 1]\n",
      " [1 0]\n",
      " [1 1]]\n",
      "[[0 0 0 0 0 0 0 0 1]\n",
      " [0 0 0 0 0 0 0 1 0]\n",
      " [0 0 0 0 0 0 1 0 0]\n",
      " [0 0 0 0 0 0 1 1 1]\n",
      " [0 0 0 0 0 1 0 0 0]\n",
      " [0 0 0 0 1 0 0 0 0]\n",
      " [0 0 0 1 0 0 0 0 0]\n",
      " [0 0 1 0 0 0 0 0 0]\n",
      " [0 1 0 0 0 0 0 0 0]\n",
      " [1 0 0 0 0 0 0 0 0]\n",
      " [1 1 1 1 1 1 0 0 0]\n",
      " [1 1 1 1 1 1 1 1 1]]\n",
      "[[0 1]\n",
      " [1 0]\n",
      " [1 1]]\n",
      "[[0 0 0 0 0 0 1]\n",
      " [0 0 0 0 0 1 0]\n",
      " [0 0 0 0 1 0 0]\n",
      " [0 0 0 1 0 0 0]\n",
      " [0 0 1 0 0 0 0]\n",
      " [0 1 0 0 0 0 0]\n",
      " [1 0 0 0 0 0 0]\n",
      " [1 1 1 1 1 1 1]]\n",
      "[[0 0 0 0 0 0 0 1]\n",
      " [0 0 0 0 0 0 1 0]\n",
      " [0 0 0 0 0 1 0 0]\n",
      " [0 0 0 0 1 0 0 0]\n",
      " [0 0 0 1 0 0 0 0]\n",
      " [0 0 1 0 0 0 0 0]\n",
      " [0 0 1 1 1 1 1 1]\n",
      " [0 1 0 0 0 0 0 0]\n",
      " [1 1 1 1 1 1 1 1]]\n",
      "[[0 0 0 0 0 0 0 0 0 0 0 0 0 0 0 0 0 0 0 0 0 0 0 1]\n",
      " [0 0 0 0 0 0 0 0 0 0 0 0 0 0 0 0 0 0 0 0 0 0 1 0]\n",
      " [0 0 0 0 0 0 0 0 0 0 0 0 0 0 0 0 0 0 0 1 1 1 0 0]\n",
      " [0 0 0 0 0 0 0 0 0 0 0 0 0 0 0 0 0 0 1 0 0 0 0 0]\n",
      " [0 0 0 0 0 0 0 0 0 0 0 0 0 0 0 0 0 0 1 1 1 1 1 1]\n",
      " [0 0 0 0 0 0 0 0 0 0 0 0 0 1 1 1 1 1 0 0 0 0 0 0]\n",
      " [0 0 0 0 0 0 0 0 0 0 0 0 1 0 0 0 0 1 0 0 0 0 0 1]\n",
      " [0 0 0 0 0 0 0 0 0 0 0 0 1 0 0 0 0 1 1 0 0 0 0 1]\n",
      " [0 0 0 0 0 0 0 0 0 0 0 1 0 0 0 0 1 0 0 0 0 0 0 0]\n",
      " [0 0 0 0 0 0 0 0 0 0 0 1 1 0 0 0 1 1 0 0 0 0 0 0]\n",
      " [0 0 0 0 0 0 0 0 0 0 1 0 0 0 0 1 0 0 0 0 0 1 0 0]\n",
      " [0 0 0 0 0 0 0 0 0 1 0 0 0 0 1 0 0 0 0 0 1 0 0 0]\n",
      " [0 0 0 0 0 0 0 0 1 0 0 0 0 1 0 0 0 0 0 1 0 0 0 0]\n",
      " [0 0 0 0 0 0 0 0 1 1 1 0 0 1 1 1 0 0 0 0 0 0 0 0]\n",
      " [0 0 0 0 0 0 0 0 1 1 1 1 0 1 1 1 1 0 0 1 1 1 1 0]\n",
      " [0 0 0 0 0 0 0 0 1 1 1 1 1 0 0 0 0 0 0 0 0 0 0 0]\n",
      " [0 0 0 0 0 0 0 0 1 1 1 1 1 1 1 1 1 1 0 0 0 0 0 0]\n",
      " [0 0 0 0 1 1 1 1 0 0 0 0 0 0 0 0 0 0 0 0 0 0 0 0]\n",
      " [0 0 0 1 0 0 0 1 0 0 0 0 0 0 0 0 0 0 0 0 0 0 0 0]\n",
      " [0 0 1 0 0 0 1 0 0 0 0 0 0 0 0 0 0 0 0 0 0 0 0 0]\n",
      " [0 1 0 0 0 1 0 0 0 0 0 0 0 0 0 0 0 0 0 0 0 0 0 0]\n",
      " [1 0 0 0 1 0 0 0 0 0 0 0 0 0 0 0 0 0 0 0 0 0 0 0]\n",
      " [1 1 1 0 1 1 1 0 0 0 0 0 0 0 0 0 0 0 0 0 0 0 0 0]\n",
      " [1 1 1 1 0 0 0 0 0 0 0 0 0 0 0 0 0 0 0 0 0 0 0 0]\n",
      " [1 1 1 1 1 1 1 1 0 0 0 0 0 0 0 0 0 0 0 0 0 0 0 0]\n",
      " [1 1 1 1 1 1 1 1 1 1 1 1 0 1 1 1 1 0 0 1 1 1 1 0]\n",
      " [1 1 1 1 1 1 1 1 1 1 1 1 1 1 1 1 1 1 1 1 1 1 1 1]]\n",
      "[[0 0 0 1]\n",
      " [0 0 1 1]\n",
      " [0 1 1 1]\n",
      " [1 0 0 0]\n",
      " [1 1 0 0]\n",
      " [1 1 1 0]\n",
      " [1 1 1 1]]\n",
      "[[0 1]\n",
      " [1 0]\n",
      " [1 1]]\n"
     ]
    }
   ],
   "source": [
    "for i in range(8):\n",
    "    Q = np.unique(queries[i], axis=0)\n",
    "    idx1 = Q.sum(axis=1)>1\n",
    "    idx2 = ~Q.all(axis=1)\n",
    "    print(Q.astype(np.uint8))"
   ]
  },
  {
   "cell_type": "code",
   "execution_count": 5,
   "metadata": {},
   "outputs": [
    {
     "name": "stdout",
     "output_type": "stream",
     "text": [
      "899.659140765667\n"
     ]
    }
   ],
   "source": [
    "W5 = workload.EkteloMatrix(queries[5].astype(np.float))\n",
    "pid = templates.PIdentity(24, 24)\n",
    "\n",
    "rows = W5.dense_matrix()\n",
    "rows = np.unique(rows, axis=0)\n",
    "rows = rows[rows.sum(axis=1) > 1]\n",
    "\n",
    "#row = more_templates.RowWeighted(rows)\n",
    "#A, loss = pid.restart_optimize(W5, 1000)\n",
    "#B, loss2 = row.restart_optimize(W5, 100)\n",
    "#print(loss)"
   ]
  },
  {
   "cell_type": "code",
   "execution_count": 6,
   "metadata": {},
   "outputs": [],
   "source": [
    "new = []\n",
    "\n",
    "for kron in W.matrices:\n",
    "    subs = [workload.EkteloMatrix(WW.dense_matrix().astype(float)) for WW in kron.matrices]\n",
    "    W1, W2, W3, W4, W5, W6, W7, W8 = subs\n",
    "    A = workload.Kronecker([W1, W2, W3, W4, W5, W7, W8])\n",
    "    B = W6\n",
    "    new.append(workload.Kronecker([A, B]))\n",
    "    \n",
    "new = workload.VStack(new)"
   ]
  },
  {
   "cell_type": "code",
   "execution_count": null,
   "metadata": {
    "scrolled": true
   },
   "outputs": [],
   "source": [
    "dom1 = (2,9,2,7,8,4,2)\n",
    "T1 = templates.Marginals(dom1)\n",
    "T2 = templates.PIdentity(20, 24)\n",
    "T3 = templates.Identity(24)\n",
    "T4 = templates.BestTemplate([T2, T3])\n",
    "_templates = [T1, T4]\n",
    "\n",
    "workloads = [[Q for Q in K.matrices] for K in new.matrices]\n",
    "\n",
    "k = len(workloads)\n",
    "d = len(workloads[0])\n",
    "C = np.ones((d,k))\n",
    "\n",
    "for i in range(d):\n",
    "    for j in range(k):\n",
    "        C[i,j] = workloads[j][i].gram().trace()\n",
    "for _ in range(10):\n",
    "    for i in range(d):\n",
    "        #print(C)\n",
    "        temp = _templates[i]\n",
    "        cs = np.sqrt(C.prod(axis=0) / C[i])\n",
    "        What = workload.VStack([c*Ws[i] for c, Ws in zip(cs, workloads)])\n",
    "        A, loss = temp.restart_optimize(What, 1000)\n",
    "        for j in range(k):\n",
    "            #print(error.expected_error(workloads[j][i], A))\n",
    "            C[i,j] = error.expected_error(workloads[j][i], A)\n",
    "\n",
    "    loss = C.prod(axis=0).sum()\n",
    "    print(np.sqrt(loss / W.shape[0]))"
   ]
  },
  {
   "cell_type": "code",
   "execution_count": null,
   "metadata": {},
   "outputs": [],
   "source": []
  },
  {
   "cell_type": "code",
   "execution_count": null,
   "metadata": {},
   "outputs": [],
   "source": []
  }
 ],
 "metadata": {
  "kernelspec": {
   "display_name": "Python 3",
   "language": "python",
   "name": "python3"
  },
  "language_info": {
   "codemirror_mode": {
    "name": "ipython",
    "version": 3
   },
   "file_extension": ".py",
   "mimetype": "text/x-python",
   "name": "python",
   "nbconvert_exporter": "python",
   "pygments_lexer": "ipython3",
   "version": "3.6.7"
  }
 },
 "nbformat": 4,
 "nbformat_minor": 2
}
