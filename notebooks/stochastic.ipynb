{
 "cells": [
  {
   "cell_type": "code",
   "execution_count": 1,
   "metadata": {},
   "outputs": [
    {
     "name": "stderr",
     "output_type": "stream",
     "text": [
      "/usr/lib/python2.7/dist-packages/matplotlib/font_manager.py:273: UserWarning: Matplotlib is building the font cache using fc-list. This may take a moment.\n",
      "  warnings.warn('Matplotlib is building the font cache using fc-list. This may take a moment.')\n"
     ]
    }
   ],
   "source": [
    "import numpy as np\n",
    "from scipy.sparse.linalg import lsmr\n",
    "import workload\n",
    "import matplotlib.pyplot as plt"
   ]
  },
  {
   "cell_type": "code",
   "execution_count": 6,
   "metadata": {
    "collapsed": true
   },
   "outputs": [],
   "source": [
    "def error(WtW, A, noise):\n",
    "    # || W A^+ noise ||_F^2\n",
    "    noise2 = lsmr(A, noise)[0]\n",
    "    return np.dot(noise2, WtW.dot(noise2))\n",
    "\n",
    "def error_and_grad(WtW, A, noise):\n",
    "    xhat = lsmr(A, noise)[0]\n",
    "    err = np.dot(xhat, WtW.dot(xhat))"
   ]
  },
  {
   "cell_type": "code",
   "execution_count": 15,
   "metadata": {},
   "outputs": [
    {
     "name": "stdout",
     "output_type": "stream",
     "text": [
      "13306497338.2 13306497338.2 13509368529.1\n",
      "7096635947.49 8946778908.44\n",
      "0.793205691134\n"
     ]
    }
   ],
   "source": [
    "# tr[(W^T W) (A^T A)^+]\n",
    "# random entry from diagonal * n\n",
    "\n",
    "n = 128\n",
    "p = 2\n",
    "\n",
    "R = workload.AllRange(n)\n",
    "WtW = R.WtW\n",
    "A = np.vstack([np.eye(n), np.random.rand(p,n)])\n",
    "A /= A.sum()\n",
    "AtA = A.T.dot(A)\n",
    "AtA1 = np.linalg.pinv(AtA)\n",
    "\n",
    "err = np.trace(WtW.dot(AtA1))\n",
    "\n",
    "errors1 = np.diag(WtW.dot(AtA1)) * n\n",
    "Y = [np.random.laplace(0, 1.0/np.sqrt(2), n+p) for _ in range(1000)]\n",
    "errors2 = [error(WtW, A, y) for y in Y]\n",
    "\n",
    "print err, np.mean(errors1), np.mean(errors2)\n",
    "print np.std(errors1), np.std(errors2)\n",
    "print np.std(errors1) / np.std(errors2)\n",
    "\n"
   ]
  },
  {
   "cell_type": "code",
   "execution_count": 61,
   "metadata": {},
   "outputs": [
    {
     "name": "stdout",
     "output_type": "stream",
     "text": [
      "790.798615092 816.0\n"
     ]
    },
    {
     "data": {
      "image/png": "[encoded data removed]",
      "text/plain": [
       "<matplotlib.figure.Figure at 0x7fc91de51750>"
      ]
     },
     "metadata": {},
     "output_type": "display_data"
    }
   ],
   "source": [
    "R = workload.AllRange(16)\n",
    "A = np.eye(16)\n",
    "\n",
    "eps = np.sqrt(2)\n",
    "trials = 1000\n",
    "errs = np.zeros(trials)\n",
    "for i in range(trials):\n",
    "    noise = np.random.laplace(loc=0, scale=1.0/eps, size=A.shape[0])\n",
    "    errs[i] = error(R.WtW, A, noise)\n",
    "\n",
    "print np.mean(errs), R.expected_error(A, eps)\n",
    "plt.hist(errs)\n",
    "plt.show()"
   ]
  },
  {
   "cell_type": "code",
   "execution_count": 7,
   "metadata": {},
   "outputs": [
    {
     "ename": "IndentationError",
     "evalue": "expected an indented block (<ipython-input-7-4414926e2423>, line 25)",
     "output_type": "error",
     "traceback": [
      "\u001b[0;36m  File \u001b[0;32m\"<ipython-input-7-4414926e2423>\"\u001b[0;36m, line \u001b[0;32m25\u001b[0m\n\u001b[0;31m    print foo(eps)\u001b[0m\n\u001b[0m        ^\u001b[0m\n\u001b[0;31mIndentationError\u001b[0m\u001b[0;31m:\u001b[0m expected an indented block\n"
     ]
    }
   ],
   "source": [
    "import autograd.numpy as np\n",
    "from autograd import grad\n",
    "\n",
    "WtW = workload.AllRange(16).WtW\n",
    "eps = np.random.laplace(loc=0, scale=1, size=16)\n",
    "\n",
    "def foo(noise):\n",
    "    return np.dot(noise, np.dot(WtW, noise))\n",
    "\n",
    "def foo_grad(noise):\n",
    "    return 2 * np.dot(WtW, noise)\n",
    "\n",
    "def bar(A):\n",
    "    y = eps\n",
    "    x = np.linalg.lstsq(A, y)[0]\n",
    "    ans = foo(x)\n",
    "    dans = foo_grad(x)\n",
    "    dy = np.linalg.lstsq(A.T, dans)[0]\n",
    "    return ans, -np.outer(dy, x)\n",
    "    \n",
    "    \n",
    "print foo(eps)\n",
    "print grad(foo)(eps)\n",
    "print foo_grad(eps)\n",
    "\n",
    "A = np.random.rand(16, 16)\n",
    "eps = np.random.laplace(loc=0, scale=1, size=A.shape[0])\n",
    "\n",
    "ans, dA = bar(A)\n",
    "approx = np.zeros(16)\n",
    "for i in range(16):\n",
    "    A[i,i] += 1e-5\n",
    "    approx[i] = (bar(A)[0] - ans) / 1e-5\n",
    "    A[i,i] -= 1e-5\n",
    "    \n",
    "print np.diag(dA)\n",
    "print approx\n",
    "\n",
    "#print grad(bar)(A)"
   ]
  },
  {
   "cell_type": "code",
   "execution_count": 38,
   "metadata": {},
   "outputs": [
    {
     "name": "stdout",
     "output_type": "stream",
     "text": [
      "(16, 18)\n",
      "83.5621048743\n",
      "[   6.97064706   25.90708175    4.27219979   34.28495373  -39.30391356\n",
      "  -55.74956823  -28.40468225  -32.9907413    28.09065462  -15.04501773\n",
      "   89.34666318 -145.95673224   26.64042942  -27.80061426   20.9186458\n",
      "   -2.35334495]\n",
      "[   6.97039436   25.90718936    4.27216904   34.28480524  -39.30334966\n",
      "  -55.74860026  -28.40463153  -32.99004593   28.09127895  -15.04480303\n",
      "   89.34948643 -145.95236898   26.64053372  -27.80086502   20.91884488\n",
      "   -2.35321392]\n"
     ]
    }
   ],
   "source": [
    "import autograd.numpy as np\n",
    "from autograd import grad, primitive\n",
    "\n",
    "def pinv_vjp(g, ans, vs, gvs, A):\n",
    "    print g.shape\n",
    "    A1 = np.linalg.pinv(A)\n",
    "    In = np.eye(A.shape[1])\n",
    "    Im = np.eye(A.shape[0])\n",
    "    term1 = -np.dot(A1, np.dot(g.T, A1))\n",
    "    term2 = np.dot(np.dot(A1, A1.T), np.dot(g, Im - np.dot(A, A1)))\n",
    "    term3 = np.dot(In - np.dot(A1, A), np.dot(g, np.dot(A1.T, A1)))\n",
    "    term3 = 0\n",
    "    return (term1 + term2 + term3).T\n",
    "\n",
    "np.linalg.pinv.defvjp(pinv_vjp)\n",
    "\n",
    "def obj(A, WtW, y):\n",
    "    A1 = np.linalg.pinv(A)\n",
    "    z = np.dot(A1, y)\n",
    "    return np.dot(z, np.dot(WtW, z))\n",
    "\n",
    "WtW = workload.AllRange(16).WtW\n",
    "A = np.random.rand(18, 16)\n",
    "#A = np.eye(16)\n",
    "y = np.random.rand(A.shape[0])\n",
    "ans = obj(A, WtW, y)\n",
    "deriv = grad(obj)(A, WtW, y)\n",
    "print ans\n",
    "print np.diag(deriv)\n",
    "\n",
    "approx = np.zeros(16)\n",
    "for i in range(16):\n",
    "    A[i,i] += 1e-5\n",
    "    approx[i] = (obj(A, WtW, y) - ans) / 1e-5\n",
    "    A[i,i] -= 1e-5\n",
    "print approx"
   ]
  },
  {
   "cell_type": "code",
   "execution_count": 251,
   "metadata": {},
   "outputs": [
    {
     "name": "stdout",
     "output_type": "stream",
     "text": [
      "663.595555733\n",
      "[  104.93968784   484.03399817   326.48745269   508.61416362  -270.85973181\n",
      "  -184.25244439  1659.41024483   -75.10926425  -799.82494044 -1256.76878524\n",
      "   183.02638959   -17.67771646  1043.57259764   -82.21142497  -503.52976131\n",
      "  -117.99076554]\n",
      "[  104.93968784   484.03399817   326.48745269   508.61416362  -270.85973181\n",
      "  -184.25244439  1659.41024483   -75.10926425  -799.82494044 -1256.76878524\n",
      "   183.02638959   -17.67771646  1043.57259764   -82.21142497  -503.52976131\n",
      "  -117.99076554]\n"
     ]
    }
   ],
   "source": [
    "import autograd.numpy as np\n",
    "def loss(A, WtW, y):\n",
    "    z = np.dot(A.T, y)\n",
    "    AtA = np.dot(A.T, A)\n",
    "    AtA1 = np.linalg.inv(AtA)\n",
    "    x = np.dot(AtA1, z)\n",
    "    return np.dot(x, np.dot(WtW, x))\n",
    "\n",
    "def loss_and_grad(A, WtW, y):\n",
    "    #C(A) = f(z(B(A)))\n",
    "    p, n = A.shape\n",
    "    \n",
    "    B = np.linalg.pinv(A)\n",
    "    z = B.dot(y)\n",
    "    dz = 2*WtW.dot(z)\n",
    "    ans = z.dot(dz) / 2.0\n",
    "    dB = np.outer(dz, y)\n",
    "    \n",
    "    term1 = -B.dot(dB.T).dot(B)\n",
    "    term2 = B.dot(B.T).dot(dB).dot(np.eye(p) - A.dot(B))\n",
    "    term3 = (np.eye(n) - B.dot(A)).dot(dB).dot(B.T).dot(B)\n",
    "    dA = (term1 + term2 + term3).T\n",
    "    return ans, dA\n",
    "\n",
    "WtW = workload.AllRange(16).WtW\n",
    "A = np.random.rand(18, 16)\n",
    "y = np.random.rand(A.shape[0])\n",
    "print loss(A, WtW, y)\n",
    "print np.diag(grad(loss)(A, WtW, y))\n",
    "print np.diag(loss_and_grad(A, WtW, y)[1])"
   ]
  },
  {
   "cell_type": "code",
   "execution_count": 252,
   "metadata": {},
   "outputs": [
    {
     "name": "stdout",
     "output_type": "stream",
     "text": [
      "179.207787254 179.20778725\n",
      "[-179.34944549   91.77100996 -133.76617664 -135.92645389 -110.56727909\n",
      "   -8.8794189   165.06418746   84.4321942   -31.29657449  -84.41388483\n",
      " -142.39572946   69.5555711   -40.6118268   142.38888507  186.24347491\n",
      "  -44.09707927]\n",
      "[-179.3494455    91.77100996 -133.76617664 -135.9264539  -110.56727908\n",
      "   -8.8794189   165.06418747   84.43219419  -31.29657449  -84.41388483\n",
      " -142.39572947   69.5555711   -40.61182679  142.38888507  186.24347492\n",
      "  -44.09707928]\n"
     ]
    }
   ],
   "source": [
    "from scipy import sparse\n",
    "from scipy.sparse.linalg import lsmr, lsqr\n",
    "import time\n",
    "\n",
    "def lstsq(A, y):\n",
    "    #return lsqr(A, y, atol=0, btol=0)[0]\n",
    "    return lsqr(A, y)[0]\n",
    "\n",
    "def loss_and_grad2(A, WtW, y):\n",
    "    p, n = A.shape\n",
    "    At = A.T\n",
    "    # B = inv(A)\n",
    "    z = lstsq(A, y)\n",
    "    dz = 2 * WtW.dot(z)\n",
    "    ans = z.dot(dz) / 2.0\n",
    "    # dB = outer(dz, y)\n",
    "    \n",
    "    # term1 = -outer(z, a)\n",
    "    a = lstsq(At, dz)\n",
    "    #term2 = outer(b, c)\n",
    "    b = lstsq(A, a)\n",
    "    c = y - lstsq(At, At.dot(y))\n",
    "    # term3 = outer(d, e)\n",
    "    d = dz - lstsq(A, A.dot(dz))\n",
    "    e = lstsq(At, z)\n",
    "    \n",
    "    grad = [(-a, z), (c,b), (e,d)] #-np.outer(z, a) + np.outer(b, c) + np.outer(d, e)\n",
    "    \n",
    "    return ans, grad\n",
    "    \n",
    "    \n",
    "WtW = workload.AllRange(16).WtW\n",
    "A = np.random.rand(18, 16)\n",
    "y = np.random.rand(A.shape[0])\n",
    "\n",
    "ans, dA = loss_and_grad(A, WtW, y)\n",
    "ans2, dA2 = loss_and_grad2(A, WtW, y)\n",
    "\n",
    "dA = grad(loss)(A, WtW, y)\n",
    "\n",
    "print ans, ans2\n",
    "print dA[0]\n",
    "print sum(np.outer(a,b) for a,b in dA2)[0]"
   ]
  },
  {
   "cell_type": "code",
   "execution_count": 127,
   "metadata": {},
   "outputs": [
    {
     "name": "stdout",
     "output_type": "stream",
     "text": [
      "CPU times: user 864 ms, sys: 392 ms, total: 1.26 s\n",
      "Wall time: 677 ms\n"
     ]
    }
   ],
   "source": [
    "from scipy import sparse\n",
    "n = 2**13\n",
    "A = np.load('/home/ryan/Desktop/strategies/all-range-%d.npy' % n)\n",
    "A = sparse.csc_matrix(A)\n",
    "y = np.random.rand(A.shape[0])\n",
    "WtW = workload.AllRange(n).WtW\n",
    "\n",
    "%time ans, dA = loss_and_grad2(A, WtW, y)"
   ]
  },
  {
   "cell_type": "code",
   "execution_count": 138,
   "metadata": {},
   "outputs": [
    {
     "data": {
      "image/png": "[encoded data removed]",
      "text/plain": [
       "<matplotlib.figure.Figure at 0x7f655f230cd0>"
      ]
     },
     "metadata": {},
     "output_type": "display_data"
    },
    {
     "name": "stdout",
     "output_type": "stream",
     "text": [
      "9\n"
     ]
    }
   ],
   "source": [
    "import matplotlib.pyplot as plt \n",
    "widths = (A[8192:]>1e-4).sum(axis=1)\n",
    "plt.hist(np.log10(widths), bins=25)\n",
    "plt.show()\n",
    "print widths.min()"
   ]
  },
  {
   "cell_type": "code",
   "execution_count": 176,
   "metadata": {},
   "outputs": [
    {
     "name": "stdout",
     "output_type": "stream",
     "text": [
      "[16, 32, 64]\n",
      "16\n",
      "32\n",
      "64\n",
      "(25, 128) 656.0 1024\n"
     ]
    },
    {
     "data": {
      "image/png": "[encoded data removed]",
      "text/plain": [
       "<matplotlib.figure.Figure at 0x7f655f5b8190>"
      ]
     },
     "metadata": {},
     "output_type": "display_data"
    }
   ],
   "source": [
    "template = []\n",
    "start = 0\n",
    "n = 128\n",
    "widths = [2**k for k in range(4, int(np.log2(n)))]\n",
    "print widths\n",
    "for width in widths:\n",
    "    print width\n",
    "    for start in range(0, n-width//2, width//2):\n",
    "        row = np.zeros(n)\n",
    "        row[start:start+width] = 1.0\n",
    "        template.append(row)\n",
    "template = np.array(template)\n",
    "print template.shape, template.sum(), n**2/16\n",
    "plt.imshow(template, cmap='Greys', interpolation='nearest', aspect='auto')\n",
    "#plt.savefig('sparse_structure.png')\n",
    "plt.show()\n",
    "#print np.nonzero(template)"
   ]
  },
  {
   "cell_type": "code",
   "execution_count": 258,
   "metadata": {},
   "outputs": [
    {
     "name": "stdout",
     "output_type": "stream",
     "text": [
      "[  66.53041457   62.15312621  109.86254046   82.56079335  110.69948976\n",
      "   90.4097529    71.94085766   94.78457929  100.32499964   80.19494236\n",
      "   89.47779037   81.15392008]\n",
      "[  66.53041457   62.15312621  109.86254046   82.56079335  110.69948976\n",
      "   90.4097529    71.94085766   94.78457929  100.32499964   80.19494236\n",
      "   89.47779037   81.15392008]\n",
      "[[ 1208.21514249  1353.10439543  1313.24346302]\n",
      " [ 1078.87097805  1208.79337375  1185.72571342]\n",
      " [  497.59358282   548.31803139   542.08289253]\n",
      " [ 1215.71454752  1377.1657356   1325.27683612]]\n",
      "[[ 1208.21514249  1353.10439543  1313.24346302]\n",
      " [ 1078.87097805  1208.79337375  1185.72571342]\n",
      " [  497.59358282   548.31803139   542.08289253]\n",
      " [ 1215.71454752  1377.1657356   1325.27683612]]\n",
      "\n",
      "\n",
      "\n",
      "\n",
      "[[  918.5822106   -184.80159329   186.20989434 -1281.55502987]\n",
      " [ 1043.1651594   1394.88855503   121.01657905 -2805.04129276]\n",
      " [   78.85106663   548.64729574   -25.96357131  -595.29064053]\n",
      " [-1431.85885146 -1781.34758336  -154.51265898  3761.78757368]\n",
      " [   92.27391138  1255.67041805   -64.48143962 -1195.68856004]]\n",
      "[[  918.58220413  -184.80157455   186.2098784  -1281.55504976]\n",
      " [ 1043.1651536   1394.88856761   121.01657013 -2805.04130498]\n",
      " [   78.85112548   548.64715341   -25.96346277  -595.29049669]\n",
      " [-1431.85886378 -1781.34755247  -154.51268279  3761.78754214]\n",
      " [   92.27387481  1255.67050186   -64.48150162 -1195.6886434 ]]\n"
     ]
    }
   ],
   "source": [
    "#dA = outer(u, v)\n",
    "import autograd.numpy as np\n",
    "\n",
    "def foo(A, WtW, y):\n",
    "    z = np.dot(A.T, y)\n",
    "    return np.dot(z, np.dot(WtW, z))\n",
    "\n",
    "def grad_foo(A, WtW, y):\n",
    "    z = np.dot(A.T, y)\n",
    "    dz = 2*np.dot(WtW, z)\n",
    "    ans = np.dot(z, dz) / 2.0\n",
    "    return y, dz\n",
    "\n",
    "def bar(B, C, WtW, y):\n",
    "    A = np.kron(B,C)\n",
    "    return foo(A, WtW, y)\n",
    "\n",
    "def grad_bar(B, C, WtW,y):\n",
    "    A = np.kron(B,C)\n",
    "    u, v = grad_foo(A, WtW, y)\n",
    "    m1, n1 = B.shape\n",
    "    m2, n2 = C.shape\n",
    "    U = u.reshape(m1, m2)\n",
    "    V = v.reshape(n1, n2)\n",
    "    return U.dot(C.dot(V.T))\n",
    "\n",
    "\n",
    "m, n = 20, 12\n",
    "B = np.random.rand(4,3)\n",
    "C = np.random.rand(5,4)\n",
    "\n",
    "A = np.kron(B,C)\n",
    "\n",
    "W = np.random.rand(n,n)\n",
    "WtW = W.T.dot(W)\n",
    "y = np.random.rand(m)\n",
    "\n",
    "print grad(foo)(A, WtW, y)[0]\n",
    "print np.outer(*grad_foo(A, WtW, y))[0]\n",
    "\n",
    "print grad(bar)(B,C,WtW,y)\n",
    "print grad_bar(B,C,WtW,y)\n",
    "\n",
    "def baz(B, C, WtW, y):\n",
    "    A = np.kron(B,C)\n",
    "    return loss(A, WtW, y)\n",
    "\n",
    "def grad_baz(B, C, WtW,y):\n",
    "    A = np.kron(B, C)\n",
    "    _, uvs = loss_and_grad2(A, WtW, y)\n",
    "    dB = np.zeros_like(B)\n",
    "    dC = np.zeros_like(C)\n",
    "    m1, n1 = B.shape\n",
    "    m2, n2 = C.shape\n",
    "    for u, v in uvs:\n",
    "        U = u.reshape(m1, m2)\n",
    "        V = v.reshape(n1, n2)\n",
    "        dB += U.dot(C.dot(V.T))\n",
    "        dC += U.T.dot(B.dot(V))\n",
    "    return dB, dC\n",
    "\n",
    "print '\\n\\n\\n'\n",
    "print grad(baz, 1)(B, C, WtW, y)\n",
    "dB, dC = grad_baz(B, C, WtW, y)\n",
    "print dC"
   ]
  },
  {
   "cell_type": "code",
   "execution_count": 257,
   "metadata": {
    "collapsed": true
   },
   "outputs": [],
   "source": [
    "grad?"
   ]
  },
  {
   "cell_type": "code",
   "execution_count": null,
   "metadata": {
    "collapsed": true
   },
   "outputs": [],
   "source": []
  }
 ],
 "metadata": {
  "kernelspec": {
   "display_name": "Python 2",
   "language": "python",
   "name": "python2"
  },
  "language_info": {
   "codemirror_mode": {
    "name": "ipython",
    "version": 2
   },
   "file_extension": ".py",
   "mimetype": "text/x-python",
   "name": "python",
   "nbconvert_exporter": "python",
   "pygments_lexer": "ipython2",
   "version": "2.7.12"
  }
 },
 "nbformat": 4,
 "nbformat_minor": 2
}
