{
 "cells": [
  {
   "cell_type": "code",
   "execution_count": 8,
   "metadata": {},
   "outputs": [
    {
     "name": "stdout",
     "output_type": "stream",
     "text": [
      "The autoreload extension is already loaded. To reload it, use:\n",
      "  %reload_ext autoreload\n"
     ]
    }
   ],
   "source": [
    "from hdmm import workload, templates, error\n",
    "import pickle\n",
    "import numpy as np\n",
    "%load_ext autoreload\n",
    "%autoreload 2"
   ]
  },
  {
   "cell_type": "code",
   "execution_count": 36,
   "metadata": {},
   "outputs": [
    {
     "name": "stdout",
     "output_type": "stream",
     "text": [
      "RMSE 20.221280824930187\n"
     ]
    }
   ],
   "source": [
    "W = pickle.load(open('household_wkld.pckl','rb'))\n",
    "\n",
    "dom = workload.Marginals.approximate(W).domain\n",
    "\n",
    "temp = templates.Marginals(dom)\n",
    "A, loss = temp.restart_optimize(W, 5)\n",
    "print('RMSE', np.sqrt(loss / W.shape[0]))"
   ]
  },
  {
   "cell_type": "code",
   "execution_count": 37,
   "metadata": {},
   "outputs": [],
   "source": [
    "# this takes a while\n",
    "error_matrix = np.zeros((len(W.matrices), len(A.matrices)))\n",
    "for i, Wi in enumerate(W.matrices):\n",
    "    #print(i)\n",
    "    for j, Aj in enumerate(A.matrices):\n",
    "        error_matrix[i,j] = error.expected_error(Wi, Aj.base)\n",
    "    "
   ]
  },
  {
   "cell_type": "code",
   "execution_count": 38,
   "metadata": {},
   "outputs": [],
   "source": [
    "best_strategy = np.argmin(error_matrix, axis=1)\n",
    "groups = [ [] for i in range(len(A.matrices)) ]\n",
    "for i in range(len(W.matrices)):\n",
    "    j = best_strategy[i]\n",
    "    groups[j].append(W.matrices[i])\n",
    "    \n",
    "groups = [workload.VStack(g) for g in groups if len(g) > 0]"
   ]
  },
  {
   "cell_type": "code",
   "execution_count": 44,
   "metadata": {},
   "outputs": [
    {
     "name": "stdout",
     "output_type": "stream",
     "text": [
      "RMSE 23.016444551567005\n"
     ]
    }
   ],
   "source": [
    "opt_plus = templates.DefaultUnionKron(dom, len(groups))\n",
    "B, loss = opt_plus.restart_optimize(groups, 5)\n",
    "\n",
    "print('RMSE', np.sqrt(loss / W.shape[0]))"
   ]
  },
  {
   "cell_type": "code",
   "execution_count": 43,
   "metadata": {},
   "outputs": [
    {
     "data": {
      "text/plain": [
       "[<21x387072 VStack with dtype=bool>,\n",
       " <9x387072 VStack with dtype=bool>,\n",
       " <156x387072 VStack with dtype=bool>,\n",
       " <6x387072 VStack with dtype=bool>,\n",
       " <22x387072 VStack with dtype=bool>,\n",
       " <16x387072 VStack with dtype=bool>,\n",
       " <161x387072 VStack with dtype=bool>,\n",
       " <97x387072 VStack with dtype=bool>,\n",
       " <20x387072 VStack with dtype=bool>,\n",
       " <46x387072 VStack with dtype=bool>,\n",
       " <26x387072 VStack with dtype=bool>]"
      ]
     },
     "execution_count": 43,
     "metadata": {},
     "output_type": "execute_result"
    }
   ],
   "source": [
    "groups"
   ]
  },
  {
   "cell_type": "code",
   "execution_count": null,
   "metadata": {},
   "outputs": [],
   "source": []
  }
 ],
 "metadata": {
  "kernelspec": {
   "display_name": "Python 3",
   "language": "python",
   "name": "python3"
  },
  "language_info": {
   "codemirror_mode": {
    "name": "ipython",
    "version": 3
   },
   "file_extension": ".py",
   "mimetype": "text/x-python",
   "name": "python",
   "nbconvert_exporter": "python",
   "pygments_lexer": "ipython3",
   "version": "3.6.7"
  }
 },
 "nbformat": 4,
 "nbformat_minor": 2
}
