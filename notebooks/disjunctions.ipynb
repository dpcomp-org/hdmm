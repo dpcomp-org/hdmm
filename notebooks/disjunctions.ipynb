{
 "cells": [
  {
   "cell_type": "code",
   "execution_count": 1,
   "metadata": {
    "collapsed": true
   },
   "outputs": [],
   "source": [
    "import numpy as np"
   ]
  },
  {
   "cell_type": "code",
   "execution_count": 2,
   "metadata": {
    "collapsed": true
   },
   "outputs": [],
   "source": [
    "def error(W, A):\n",
    "    WtW = W.T.dot(W)\n",
    "    AtA = A.T.dot(A)\n",
    "    AtA1 = np.linalg.pinv(AtA)\n",
    "    prof = np.trace(WtW.dot(AtA1))\n",
    "    delta = np.abs(A).sum(axis=0).max()\n",
    "    return delta**2 * prof"
   ]
  },
  {
   "cell_type": "code",
   "execution_count": 3,
   "metadata": {},
   "outputs": [
    {
     "name": "stdout",
     "output_type": "stream",
     "text": [
      "225.0 633.333333333 588.461538462 2025.0 564328.149937 134.8\n"
     ]
    }
   ],
   "source": [
    "I = np.eye(5)\n",
    "O = np.ones((5,5))\n",
    "T = np.ones(5)\n",
    "M = np.vstack([T,I])\n",
    "W = 1 - np.kron(1 - I, 1 - I)\n",
    "A = np.kron(I, I)\n",
    "B = np.kron(M, M)\n",
    "C = np.vstack([A, np.kron(T,T)])\n",
    "D = np.random.rand(25, 25)\n",
    "E = np.vstack([np.kron(I,T), np.kron(T,I)])\n",
    "print error(W, A), error(W, B), error(W, C), error(W, W), error(W, D), error(W, E)\n",
    "#print W.T.dot(W)"
   ]
  },
  {
   "cell_type": "code",
   "execution_count": 4,
   "metadata": {
    "collapsed": true
   },
   "outputs": [],
   "source": [
    "# 1 - (1 - I) x (1 - I)\n",
    "\n",
    "def disjunct_error(W1, W2, A, B):\n",
    "    W1 = 1 - W1\n",
    "    W2 = 1 - W2\n",
    "    O1 = np.ones_like(W1)\n",
    "    O2 = np.ones_like(W2)\n",
    "    \n",
    "    WtW11 = O1.T.dot(O1)\n",
    "    WtW21 = O2.T.dot(O2)\n",
    "    \n",
    "    WtW12 = O1.T.dot(W1)\n",
    "    WtW22 = O2.T.dot(W2)\n",
    "    \n",
    "    WtW13 = W1.T.dot(O1)\n",
    "    WtW23 = W2.T.dot(O2)\n",
    "    \n",
    "    WtW14 = W1.T.dot(W1)\n",
    "    WtW24 = W2.T.dot(W2)\n",
    "    \n",
    "    AtA1 = np.linalg.pinv(A.T.dot(A))\n",
    "    BtB1 = np.linalg.pinv(B.T.dot(B))\n",
    "    \n",
    "    t1 = np.trace(WtW11.dot(AtA1)) * np.trace(WtW21.dot(BtB1))\n",
    "    t2 = np.trace(WtW12.dot(AtA1)) * np.trace(WtW22.dot(BtB1))\n",
    "    t3 = np.trace(WtW13.dot(AtA1)) * np.trace(WtW23.dot(BtB1))\n",
    "    t4 = np.trace(WtW14.dot(AtA1)) * np.trace(WtW24.dot(BtB1))\n",
    "    \n",
    "    return t1-t2-t3+t4\n",
    "\n",
    "def disjunct_expand(Ws):\n",
    "    d = len(Ws)\n",
    "    WtWs = []\n",
    "    for i in range(len(Ws)):\n",
    "        W = 1 - Ws[i]\n",
    "        O = np.ones_like(W)\n",
    "        WtW1 = O.T.dot(O)\n",
    "        WtW2 = O.T.dot(W)\n",
    "        WtW3 = W.T.dot(O)\n",
    "        WtW4 = W.T.dot(W)\n",
    "        WtWs.append([WtW1, WtW2, WtW3, WtW4])\n",
    "    return map(list, zip(*WtWs))\n",
    "        "
   ]
  },
  {
   "cell_type": "code",
   "execution_count": 103,
   "metadata": {},
   "outputs": [
    {
     "name": "stdout",
     "output_type": "stream",
     "text": [
      "48656.9222218 48656.9222218\n"
     ]
    },
    {
     "data": {
      "text/plain": [
       "[[array([[ 5.,  5.,  5.,  5.,  5.],\n",
       "         [ 5.,  5.,  5.,  5.,  5.],\n",
       "         [ 5.,  5.,  5.,  5.,  5.],\n",
       "         [ 5.,  5.,  5.,  5.,  5.],\n",
       "         [ 5.,  5.,  5.,  5.,  5.]]), array([[ 5.,  5.,  5.,  5.,  5.],\n",
       "         [ 5.,  5.,  5.,  5.,  5.],\n",
       "         [ 5.,  5.,  5.,  5.,  5.],\n",
       "         [ 5.,  5.,  5.,  5.,  5.],\n",
       "         [ 5.,  5.,  5.,  5.,  5.]])], [array([[ 1.,  1.,  1.,  1.,  1.],\n",
       "         [ 1.,  1.,  1.,  1.,  1.],\n",
       "         [ 1.,  1.,  1.,  1.,  1.],\n",
       "         [ 1.,  1.,  1.,  1.,  1.],\n",
       "         [ 1.,  1.,  1.,  1.,  1.]]), array([[ 1.,  1.,  1.,  1.,  1.],\n",
       "         [ 1.,  1.,  1.,  1.,  1.],\n",
       "         [ 1.,  1.,  1.,  1.,  1.],\n",
       "         [ 1.,  1.,  1.,  1.,  1.],\n",
       "         [ 1.,  1.,  1.,  1.,  1.]])], [array([[ 1.,  1.,  1.,  1.,  1.],\n",
       "         [ 1.,  1.,  1.,  1.,  1.],\n",
       "         [ 1.,  1.,  1.,  1.,  1.],\n",
       "         [ 1.,  1.,  1.,  1.,  1.],\n",
       "         [ 1.,  1.,  1.,  1.,  1.]]), array([[ 1.,  1.,  1.,  1.,  1.],\n",
       "         [ 1.,  1.,  1.,  1.,  1.],\n",
       "         [ 1.,  1.,  1.,  1.,  1.],\n",
       "         [ 1.,  1.,  1.,  1.,  1.],\n",
       "         [ 1.,  1.,  1.,  1.,  1.]])], [array([[ 1.,  0.,  0.,  0.,  0.],\n",
       "         [ 0.,  1.,  0.,  0.,  0.],\n",
       "         [ 0.,  0.,  1.,  0.,  0.],\n",
       "         [ 0.,  0.,  0.,  1.,  0.],\n",
       "         [ 0.,  0.,  0.,  0.,  1.]]), array([[ 1.,  0.,  0.,  0.,  0.],\n",
       "         [ 0.,  1.,  0.,  0.,  0.],\n",
       "         [ 0.,  0.,  1.,  0.,  0.],\n",
       "         [ 0.,  0.,  0.,  1.,  0.],\n",
       "         [ 0.,  0.,  0.,  0.,  1.]])]]"
      ]
     },
     "execution_count": 103,
     "metadata": {},
     "output_type": "execute_result"
    }
   ],
   "source": [
    "I = np.eye(5)\n",
    "R = np.random.rand(5,5)\n",
    "R /= R.sum(axis=0)\n",
    "\n",
    "W = 1 - np.kron(1-I, 1-I)\n",
    "print error(W, np.kron(R,R)), disjunct_error(I, I, R,R)\n",
    "disjunct_expand([I,I])"
   ]
  },
  {
   "cell_type": "code",
   "execution_count": 8,
   "metadata": {},
   "outputs": [
    {
     "name": "stdout",
     "output_type": "stream",
     "text": [
      "[[ 0.54383106  0.5438314   0.5438312   0.54383133  0.54383109  0.5438309\n",
      "   0.54383134  0.54383107]]\n",
      "4339.39268757 2446.25106747 2446.25106747 2446.25106747 2446.25106747\n"
     ]
    }
   ],
   "source": [
    "import optimize\n",
    "n = 8\n",
    "I = np.eye(n)\n",
    "WtWs = disjunct_expand([I,I])\n",
    "p = 1\n",
    "\n",
    "init = [np.random.rand(p, n) for _ in range(4)]\n",
    "ans = optimize.union_kron(WtWs, init)\n",
    "print ans['As'][0][-p:]\n",
    "\n",
    "A1, A2 = ans['As']\n",
    "AtA1 = np.linalg.pinv(A1.T.dot(A1))\n",
    "BtB1 = np.linalg.pinv(A2.T.dot(A2))\n",
    "res = 0\n",
    "res += np.trace(WtWs[0][0].dot(AtA1)) * np.trace(WtWs[0][1].dot(BtB1))\n",
    "res -= np.trace(WtWs[1][0].dot(AtA1)) * np.trace(WtWs[1][1].dot(BtB1))\n",
    "res -= np.trace(WtWs[2][0].dot(AtA1)) * np.trace(WtWs[2][1].dot(BtB1))\n",
    "res += np.trace(WtWs[3][0].dot(AtA1)) * np.trace(WtWs[3][1].dot(BtB1))\n",
    "\n",
    "W = 1 - np.kron(1-I, 1-I)\n",
    "A = reduce(np.kron, ans['As'])\n",
    "\n",
    "WtWs[1][0] *= -1\n",
    "WtWs[2][0] *= -1\n",
    "\n",
    "res2 = 0\n",
    "res2 += np.trace(WtWs[0][0].dot(AtA1)) * np.trace(WtWs[0][1].dot(BtB1))\n",
    "res2 += np.trace(WtWs[1][0].dot(AtA1)) * np.trace(WtWs[1][1].dot(BtB1))\n",
    "res2 += np.trace(WtWs[2][0].dot(AtA1)) * np.trace(WtWs[2][1].dot(BtB1))\n",
    "res2 += np.trace(WtWs[3][0].dot(AtA1)) * np.trace(WtWs[3][1].dot(BtB1))\n",
    "\n",
    "print ans['error'], error(W, A), res, disjunct_error(I, I, A1, A2), res2"
   ]
  },
  {
   "cell_type": "code",
   "execution_count": null,
   "metadata": {
    "collapsed": true
   },
   "outputs": [],
   "source": []
  }
 ],
 "metadata": {
  "kernelspec": {
   "display_name": "Python 2",
   "language": "python",
   "name": "python2"
  },
  "language_info": {
   "codemirror_mode": {
    "name": "ipython",
    "version": 2
   },
   "file_extension": ".py",
   "mimetype": "text/x-python",
   "name": "python",
   "nbconvert_exporter": "python",
   "pygments_lexer": "ipython2",
   "version": "2.7.12"
  }
 },
 "nbformat": 4,
 "nbformat_minor": 2
}
