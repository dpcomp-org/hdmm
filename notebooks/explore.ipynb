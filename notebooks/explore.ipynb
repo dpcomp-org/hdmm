{
 "cells": [
  {
   "cell_type": "code",
   "execution_count": 1,
   "metadata": {
    "collapsed": true
   },
   "outputs": [],
   "source": [
    "import numpy as np\n",
    "import workload\n",
    "import optimize"
   ]
  },
  {
   "cell_type": "code",
   "execution_count": 21,
   "metadata": {},
   "outputs": [],
   "source": [
    "R = workload.AllRange(64)\n",
    "ans = optimize.augmented_optimization(R.WtW, np.random.rand(4, 64))\n",
    "B = np.reshape(ans['res'].x, (4,64))\n",
    "I = np.eye(64)\n",
    "init = np.vstack([np.kron(I, B), np.kron(B,I), np.kron(B,B)])"
   ]
  },
  {
   "cell_type": "code",
   "execution_count": 22,
   "metadata": {},
   "outputs": [
    {
     "name": "stdout",
     "output_type": "stream",
     "text": [
      "927628148.371\n",
      "1029913493.36\n"
     ]
    }
   ],
   "source": [
    "R = workload.Range2D(64)\n",
    "ans1 = optimize.augmented_optimization(R.WtW, np.random.rand(*init.shape))\n",
    "ans2 = optimize.augmented_optimization(R.WtW, init)\n",
    "\n",
    "print ans1['res'].fun\n",
    "print ans2['res'].fun"
   ]
  },
  {
   "cell_type": "code",
   "execution_count": 24,
   "metadata": {},
   "outputs": [
    {
     "name": "stdout",
     "output_type": "stream",
     "text": [
      "1071.43761802\n",
      "9.80535793304\n"
     ]
    }
   ],
   "source": [
    "print ans1['time']\n",
    "print ans2['time']"
   ]
  },
  {
   "cell_type": "code",
   "execution_count": 43,
   "metadata": {
    "collapsed": true
   },
   "outputs": [],
   "source": [
    "import autograd.numpy as np\n",
    "from autograd import grad, primitive"
   ]
  },
  {
   "cell_type": "code",
   "execution_count": 67,
   "metadata": {},
   "outputs": [],
   "source": [
    "R = workload.AllRange(64)\n",
    "WtW = R.WtW\n",
    "@primitive\n",
    "def expected_error(A):\n",
    "    AtA = np.dot(A.T, A)\n",
    "    AtA1 = np.linalg.pinv(AtA)\n",
    "    X = np.dot(AtA1, WtW)\n",
    "    return np.trace(X)\n",
    "\n",
    "def make_grad_expected_error(g, ans, vs, gvs, A):\n",
    "    AtA = np.dot(A.T, A)\n",
    "    AtA1 = np.linalg.pinv(AtA)\n",
    "    X = np.dot(AtA1, WtW)\n",
    "    Y = np.dot(X, AtA1)\n",
    "    return -2.0*np.dot(A, Y)\n",
    "\n",
    "expected_error.defvjp(make_grad_expected_error)"
   ]
  },
  {
   "cell_type": "code",
   "execution_count": 74,
   "metadata": {},
   "outputs": [
    {
     "name": "stdout",
     "output_type": "stream",
     "text": [
      "222778.826289\n",
      "[  2.86137528e+03   1.18033446e+03   7.22749039e+02   2.02788891e+03\n",
      "   2.49308321e+03   2.13275271e+03   1.99873529e+03   1.60257027e+03\n",
      "   2.00901955e+03   1.86287832e+03   2.75062599e+03   2.18814932e+03\n",
      "   2.88006106e+03   2.65630476e+03   2.01803901e+03   3.49028738e+03\n",
      "   3.73321542e+03   1.38776382e+03   3.92195525e+03   3.43252382e+03\n",
      "   3.62654119e+03   4.69984427e+03   2.15468695e+03   3.11412162e+03\n",
      "   2.92725034e+03   4.39463733e+03   2.66070988e+03   3.29663701e+03\n",
      "   2.87519391e+03   2.76611997e+03   3.50676085e+03   2.24918905e+03\n",
      "   3.18282638e+03   1.99410686e+03   2.01231054e+03   1.75751055e+03\n",
      "   1.85302289e+03   1.67261466e+03   1.60663701e+03   1.32022055e+03\n",
      "   1.31877459e+03   1.19381028e+03   1.53548144e+03   1.14254193e+03\n",
      "   1.41131636e+03   1.44721162e+03   1.74079349e+03   8.74670598e+02\n",
      "   1.24789872e+03   1.23790731e+03   1.10512050e+03   1.47399595e+03\n",
      "   1.52039616e+03   1.22601211e+03   1.08719967e+03   2.03375013e+03\n",
      "   1.39795119e+03   1.23555871e+03   1.54317876e+03   1.61900349e+03\n",
      "   1.32088593e+03   1.89104989e+03   1.21773833e+03   1.84216516e+03\n",
      "   4.51909415e+03   1.94126353e+03   1.36194456e+03   1.99576484e+03\n",
      "   3.56321158e+03   2.44505994e+03   1.32679415e+03   1.84295347e+03\n",
      "   1.84828099e+03   1.07016864e+03   2.32410811e+03   2.02555802e+03\n",
      "   1.93199522e+03   1.44181885e+03   1.32565462e+03   1.36821158e+03\n",
      "   1.86225087e+03   9.59991053e+02   1.83035726e+03   1.03254475e+03\n",
      "   1.44155629e+03   1.69449838e+03   5.59148572e+02   1.05811799e+03\n",
      "   8.05394500e+02   1.26969255e+03   9.56348337e+02   9.48219619e+02\n",
      "   1.19527885e+03   1.29363876e+03   1.73035457e+03   1.35127966e+03\n",
      "   2.09989061e+03   1.79870990e+03   1.90509132e+03   1.71632295e+03\n",
      "   2.41123373e+03   1.71027124e+03   1.71640123e+03   2.71067858e+03\n",
      "   2.62223374e+03   2.48039256e+03   2.57127941e+03   1.65776136e+03\n",
      "   1.49811472e+03   2.52198553e+03   2.79372462e+03   1.63785884e+03\n",
      "   2.77969131e+03   1.70876762e+03   2.11805373e+03   1.85865689e+03\n",
      "   2.94004503e+03   3.33868180e+03   2.99315377e+03   4.41083684e+03\n",
      "   3.60889702e+03   2.43633685e+03   2.80017400e+03   3.16201248e+03\n",
      "   3.40115404e+03   4.19708439e+03   2.60025675e+03   2.52083583e+03\n",
      "   5.95884349e+03   2.59069121e+03   2.21118354e+03   2.82938570e+03\n",
      "   5.49705337e+03   3.66116177e+03   1.78988452e+03   2.90365577e+03\n",
      "   2.31516198e+03   1.23427199e+03   3.05147106e+03   2.39335451e+03\n",
      "   2.35389576e+03   9.68118049e+02   1.34031942e+03   2.89867016e+02\n",
      "   1.13877634e+03   8.05388680e+02   6.89290551e+02  -4.26540586e+02\n",
      "   2.92219932e+02   8.87915431e+01  -1.41758688e+02  -1.06513391e+02\n",
      "  -4.68781346e+02  -2.35538628e+02  -1.65223519e+02  -2.06540183e+02\n",
      "   2.10892768e-01   1.44448419e+02   1.05034592e+02   4.02287334e+02\n",
      "   5.12921422e+02   1.07964016e+03   6.55566418e+02   7.81117168e+02\n",
      "   1.53720801e+03   7.13799487e+02   1.04857731e+03   2.55939892e+03\n",
      "   2.75022188e+03   2.94742017e+03   2.95799349e+03   2.36927929e+03\n",
      "   1.81017805e+03   3.51932880e+03   4.13000592e+03   2.43811173e+03\n",
      "   4.09691018e+03   2.25413498e+03   2.52039756e+03   2.18876174e+03\n",
      "   3.56367171e+03   4.40352851e+03   3.60542274e+03   5.04017298e+03\n",
      "   4.58441319e+03   2.42483040e+03   3.01040357e+03   3.70519490e+03\n",
      "   3.92792887e+03   5.09250512e+03   3.39922208e+03   2.74225792e+03\n",
      "   4.53703794e+03   2.02824259e+03   1.41787276e+03   2.71013086e+03\n",
      "   4.25952155e+03   3.27929540e+03   2.37475283e+03   2.37367730e+03\n",
      "   2.76769965e+03   2.01293542e+03   3.33901154e+03   2.88585608e+03\n",
      "   2.94732926e+03   2.33925270e+03   1.96676097e+03   2.59463364e+03\n",
      "   2.86573890e+03   1.06214808e+03   3.00893082e+03   2.00948940e+03\n",
      "   2.57826464e+03   3.23829524e+03   1.24628411e+03   2.07420037e+03\n",
      "   1.71953225e+03   2.72708297e+03   1.65120846e+03   1.92982424e+03\n",
      "   1.98757947e+03   1.77645367e+03   2.56154620e+03   1.77848847e+03\n",
      "   2.58917380e+03   1.68071954e+03   1.99745204e+03   1.47717670e+03\n",
      "   1.82877070e+03   1.33582576e+03   1.19671066e+03   1.62510786e+03\n",
      "   1.34388555e+03   1.19758213e+03   1.39898833e+03   7.73723506e+02\n",
      "   7.42439747e+02   1.08020906e+03   1.19343237e+03   6.19474797e+02\n",
      "   1.10549760e+03   6.46935062e+02   7.67638699e+02   8.52405780e+02\n",
      "   1.43925313e+03   1.57799571e+03   1.53712379e+03   2.84718566e+03\n",
      "   2.41725960e+03   1.82946895e+03   2.33591305e+03   2.74602407e+03\n",
      "   2.70132253e+03   3.64036646e+03   2.22155482e+03   2.56753062e+03]\n"
     ]
    }
   ],
   "source": [
    "def parameterization(theta):\n",
    "    A = np.vstack([np.eye(64), np.reshape(theta, (4,64))])\n",
    "    return A / A.sum(axis=0)\n",
    "\n",
    "def foo(theta):\n",
    "    return expected_error(parameterization(theta))\n",
    "    \n",
    "#A = np.random.rand(64,64)\n",
    "#print expected_error(A)\n",
    "#print grad(expected_error)(A)\n",
    "theta = np.random.rand(4*64)\n",
    "print foo(theta)\n",
    "print grad(foo)(theta)"
   ]
  },
  {
   "cell_type": "code",
   "execution_count": 82,
   "metadata": {},
   "outputs": [
    {
     "data": {
      "text/plain": [
       "373623.35303084709"
      ]
     },
     "execution_count": 82,
     "metadata": {},
     "output_type": "execute_result"
    }
   ],
   "source": [
    "W = R.W\n",
    "eps = np.random.laplace(0, 1.0, size=A.shape[0])\n",
    "def err(A):\n",
    "    A1 = np.linalg.inv(A)\n",
    "    e = np.dot(W, np.dot(A1, eps))\n",
    "    return np.dot(e, e)\n",
    "\n",
    "A = np.random.rand(64,64)\n",
    "err(A)\n",
    "#print grad(err)(A)"
   ]
  },
  {
   "cell_type": "code",
   "execution_count": null,
   "metadata": {
    "collapsed": true
   },
   "outputs": [],
   "source": []
  }
 ],
 "metadata": {
  "kernelspec": {
   "display_name": "Python 2",
   "language": "python",
   "name": "python2"
  },
  "language_info": {
   "codemirror_mode": {
    "name": "ipython",
    "version": 2
   },
   "file_extension": ".py",
   "mimetype": "text/x-python",
   "name": "python",
   "nbconvert_exporter": "python",
   "pygments_lexer": "ipython2",
   "version": "2.7.12"
  }
 },
 "nbformat": 4,
 "nbformat_minor": 2
}
